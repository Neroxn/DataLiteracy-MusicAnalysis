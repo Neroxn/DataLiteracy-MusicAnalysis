{
 "cells": [
  {
   "cell_type": "code",
   "execution_count": 4,
   "metadata": {},
   "outputs": [
    {
     "name": "stdout",
     "output_type": "stream",
     "text": [
      "The autoreload extension is already loaded. To reload it, use:\n",
      "  %reload_ext autoreload\n"
     ]
    }
   ],
   "source": [
    "from spotify_wrapper import SpotifyWrapper\n",
    "from database_wrapper import SpotifyCharts\n",
    "\n",
    "# make it so that when this cell is run, update the libraries and modifications\n",
    "%load_ext autoreload"
   ]
  },
  {
   "cell_type": "code",
   "execution_count": 5,
   "metadata": {},
   "outputs": [],
   "source": [
    "%reload_ext autoreload"
   ]
  },
  {
   "cell_type": "code",
   "execution_count": 26,
   "metadata": {},
   "outputs": [],
   "source": [
    "# Load the YAML secrets\n",
    "import yaml\n",
    "with open(\"secrets.yaml\", 'r') as stream:\n",
    "    try:\n",
    "        secrets = yaml.safe_load(stream)\n",
    "    except yaml.YAMLError as exc:\n",
    "        print(exc)\n",
    "\n",
    "# Create the SpotifyWrapper object\n",
    "sw = SpotifyWrapper(secrets['CLIENT_ID'], secrets['CLIENT_SECRET'], secrets[\"APP_NAME\"], secrets[\"REDIRECT_URI\"], secrets[\"SCOPE\"])\n"
   ]
  },
  {
   "cell_type": "code",
   "execution_count": 7,
   "metadata": {},
   "outputs": [],
   "source": [
    "data_path = \"../data/charts.csv\"\n",
    "\n",
    "# Create the SpotifyCharts object\n",
    "sc = SpotifyCharts(data_path)"
   ]
  },
  {
   "cell_type": "code",
   "execution_count": 5,
   "metadata": {},
   "outputs": [
    {
     "data": {
      "text/plain": [
       "SpotifyCharts(path=../data/charts.csv, columns=Index(['title', 'rank', 'date', 'artist', 'url', 'region', 'chart', 'trend',\n",
       "       'streams'],\n",
       "      dtype='object'), shape=(26173514, 9))"
      ]
     },
     "execution_count": 5,
     "metadata": {},
     "output_type": "execute_result"
    }
   ],
   "source": [
    "sc"
   ]
  },
  {
   "cell_type": "markdown",
   "metadata": {},
   "source": [
    "# Utils functions, to be moved later on"
   ]
  },
  {
   "cell_type": "code",
   "execution_count": 27,
   "metadata": {},
   "outputs": [
    {
     "data": {
      "text/html": [
       "<div>\n",
       "<style scoped>\n",
       "    .dataframe tbody tr th:only-of-type {\n",
       "        vertical-align: middle;\n",
       "    }\n",
       "\n",
       "    .dataframe tbody tr th {\n",
       "        vertical-align: top;\n",
       "    }\n",
       "\n",
       "    .dataframe thead th {\n",
       "        text-align: right;\n",
       "    }\n",
       "</style>\n",
       "<table border=\"1\" class=\"dataframe\">\n",
       "  <thead>\n",
       "    <tr style=\"text-align: right;\">\n",
       "      <th></th>\n",
       "      <th>title</th>\n",
       "      <th>rank</th>\n",
       "      <th>date</th>\n",
       "      <th>artist</th>\n",
       "      <th>url</th>\n",
       "      <th>region</th>\n",
       "      <th>chart</th>\n",
       "      <th>trend</th>\n",
       "      <th>streams</th>\n",
       "    </tr>\n",
       "  </thead>\n",
       "  <tbody>\n",
       "    <tr>\n",
       "      <th>18737588</th>\n",
       "      <td>How Dare You</td>\n",
       "      <td>1</td>\n",
       "      <td>2020-01-01</td>\n",
       "      <td>Derex</td>\n",
       "      <td>https://open.spotify.com/track/6FngZCqvzNE4lAi...</td>\n",
       "      <td>Germany</td>\n",
       "      <td>viral50</td>\n",
       "      <td>SAME_POSITION</td>\n",
       "      <td>NaN</td>\n",
       "    </tr>\n",
       "    <tr>\n",
       "      <th>18737589</th>\n",
       "      <td>GOODMORNINGTOKYO!</td>\n",
       "      <td>2</td>\n",
       "      <td>2020-01-01</td>\n",
       "      <td>TOKYO’S REVENGE</td>\n",
       "      <td>https://open.spotify.com/track/0Q2n5yzl2XRqYbV...</td>\n",
       "      <td>Germany</td>\n",
       "      <td>viral50</td>\n",
       "      <td>SAME_POSITION</td>\n",
       "      <td>NaN</td>\n",
       "    </tr>\n",
       "    <tr>\n",
       "      <th>18737590</th>\n",
       "      <td>Blinding Lights</td>\n",
       "      <td>3</td>\n",
       "      <td>2020-01-01</td>\n",
       "      <td>The Weeknd</td>\n",
       "      <td>https://open.spotify.com/track/0sf12qNH5qcw8qp...</td>\n",
       "      <td>Germany</td>\n",
       "      <td>viral50</td>\n",
       "      <td>SAME_POSITION</td>\n",
       "      <td>NaN</td>\n",
       "    </tr>\n",
       "    <tr>\n",
       "      <th>18737591</th>\n",
       "      <td>Falling</td>\n",
       "      <td>4</td>\n",
       "      <td>2020-01-01</td>\n",
       "      <td>Trevor Daniel</td>\n",
       "      <td>https://open.spotify.com/track/4TnjEaWOeW0eKTK...</td>\n",
       "      <td>Germany</td>\n",
       "      <td>viral50</td>\n",
       "      <td>SAME_POSITION</td>\n",
       "      <td>NaN</td>\n",
       "    </tr>\n",
       "    <tr>\n",
       "      <th>18737592</th>\n",
       "      <td>Roses - Imanbek Remix</td>\n",
       "      <td>5</td>\n",
       "      <td>2020-01-01</td>\n",
       "      <td>SAINt JHN</td>\n",
       "      <td>https://open.spotify.com/track/24Yi9hE78yPEbZ4...</td>\n",
       "      <td>Germany</td>\n",
       "      <td>viral50</td>\n",
       "      <td>SAME_POSITION</td>\n",
       "      <td>NaN</td>\n",
       "    </tr>\n",
       "    <tr>\n",
       "      <th>...</th>\n",
       "      <td>...</td>\n",
       "      <td>...</td>\n",
       "      <td>...</td>\n",
       "      <td>...</td>\n",
       "      <td>...</td>\n",
       "      <td>...</td>\n",
       "      <td>...</td>\n",
       "      <td>...</td>\n",
       "      <td>...</td>\n",
       "    </tr>\n",
       "    <tr>\n",
       "      <th>18907093</th>\n",
       "      <td>Bad Guy (Remix)</td>\n",
       "      <td>46</td>\n",
       "      <td>2020-01-07</td>\n",
       "      <td>Dani L. Mebius</td>\n",
       "      <td>https://open.spotify.com/track/6uGiIWcBzSYqO5Z...</td>\n",
       "      <td>Germany</td>\n",
       "      <td>viral50</td>\n",
       "      <td>MOVE_DOWN</td>\n",
       "      <td>NaN</td>\n",
       "    </tr>\n",
       "    <tr>\n",
       "      <th>18907094</th>\n",
       "      <td>Close Your Eyes</td>\n",
       "      <td>47</td>\n",
       "      <td>2020-01-07</td>\n",
       "      <td>Felix Jaehn, VIZE, Miss Li</td>\n",
       "      <td>https://open.spotify.com/track/7N06jo3EnV792VF...</td>\n",
       "      <td>Germany</td>\n",
       "      <td>viral50</td>\n",
       "      <td>MOVE_UP</td>\n",
       "      <td>NaN</td>\n",
       "    </tr>\n",
       "    <tr>\n",
       "      <th>18907095</th>\n",
       "      <td>Reason to Get Lost</td>\n",
       "      <td>48</td>\n",
       "      <td>2020-01-07</td>\n",
       "      <td>ArtLec</td>\n",
       "      <td>https://open.spotify.com/track/5X8vNnFg4XKL6Wk...</td>\n",
       "      <td>Germany</td>\n",
       "      <td>viral50</td>\n",
       "      <td>NEW_ENTRY</td>\n",
       "      <td>NaN</td>\n",
       "    </tr>\n",
       "    <tr>\n",
       "      <th>18907096</th>\n",
       "      <td>Eternal Youth</td>\n",
       "      <td>49</td>\n",
       "      <td>2020-01-07</td>\n",
       "      <td>RŮDE</td>\n",
       "      <td>https://open.spotify.com/track/0ytvsZOerGzUWfH...</td>\n",
       "      <td>Germany</td>\n",
       "      <td>viral50</td>\n",
       "      <td>NEW_ENTRY</td>\n",
       "      <td>NaN</td>\n",
       "    </tr>\n",
       "    <tr>\n",
       "      <th>18907097</th>\n",
       "      <td>Dance Monkey</td>\n",
       "      <td>50</td>\n",
       "      <td>2020-01-07</td>\n",
       "      <td>Tones And I</td>\n",
       "      <td>https://open.spotify.com/track/1rgnBhdG2JDFTbY...</td>\n",
       "      <td>Germany</td>\n",
       "      <td>viral50</td>\n",
       "      <td>MOVE_DOWN</td>\n",
       "      <td>NaN</td>\n",
       "    </tr>\n",
       "  </tbody>\n",
       "</table>\n",
       "<p>350 rows × 9 columns</p>\n",
       "</div>"
      ],
      "text/plain": [
       "                          title  rank        date                      artist  \\\n",
       "18737588           How Dare You     1  2020-01-01                       Derex   \n",
       "18737589      GOODMORNINGTOKYO!     2  2020-01-01             TOKYO’S REVENGE   \n",
       "18737590        Blinding Lights     3  2020-01-01                  The Weeknd   \n",
       "18737591                Falling     4  2020-01-01               Trevor Daniel   \n",
       "18737592  Roses - Imanbek Remix     5  2020-01-01                   SAINt JHN   \n",
       "...                         ...   ...         ...                         ...   \n",
       "18907093        Bad Guy (Remix)    46  2020-01-07              Dani L. Mebius   \n",
       "18907094        Close Your Eyes    47  2020-01-07  Felix Jaehn, VIZE, Miss Li   \n",
       "18907095     Reason to Get Lost    48  2020-01-07                      ArtLec   \n",
       "18907096          Eternal Youth    49  2020-01-07                        RŮDE   \n",
       "18907097           Dance Monkey    50  2020-01-07                 Tones And I   \n",
       "\n",
       "                                                        url   region    chart  \\\n",
       "18737588  https://open.spotify.com/track/6FngZCqvzNE4lAi...  Germany  viral50   \n",
       "18737589  https://open.spotify.com/track/0Q2n5yzl2XRqYbV...  Germany  viral50   \n",
       "18737590  https://open.spotify.com/track/0sf12qNH5qcw8qp...  Germany  viral50   \n",
       "18737591  https://open.spotify.com/track/4TnjEaWOeW0eKTK...  Germany  viral50   \n",
       "18737592  https://open.spotify.com/track/24Yi9hE78yPEbZ4...  Germany  viral50   \n",
       "...                                                     ...      ...      ...   \n",
       "18907093  https://open.spotify.com/track/6uGiIWcBzSYqO5Z...  Germany  viral50   \n",
       "18907094  https://open.spotify.com/track/7N06jo3EnV792VF...  Germany  viral50   \n",
       "18907095  https://open.spotify.com/track/5X8vNnFg4XKL6Wk...  Germany  viral50   \n",
       "18907096  https://open.spotify.com/track/0ytvsZOerGzUWfH...  Germany  viral50   \n",
       "18907097  https://open.spotify.com/track/1rgnBhdG2JDFTbY...  Germany  viral50   \n",
       "\n",
       "                  trend  streams  \n",
       "18737588  SAME_POSITION      NaN  \n",
       "18737589  SAME_POSITION      NaN  \n",
       "18737590  SAME_POSITION      NaN  \n",
       "18737591  SAME_POSITION      NaN  \n",
       "18737592  SAME_POSITION      NaN  \n",
       "...                 ...      ...  \n",
       "18907093      MOVE_DOWN      NaN  \n",
       "18907094        MOVE_UP      NaN  \n",
       "18907095      NEW_ENTRY      NaN  \n",
       "18907096      NEW_ENTRY      NaN  \n",
       "18907097      MOVE_DOWN      NaN  \n",
       "\n",
       "[350 rows x 9 columns]"
      ]
     },
     "execution_count": 27,
     "metadata": {},
     "output_type": "execute_result"
    }
   ],
   "source": [
    "def get_region_audio_features(sw : SpotifyWrapper, sc: SpotifyCharts, region_names, date_range = None):\n",
    "    \"\"\"\n",
    "    Get a audio features of a data limited with a region\n",
    "    \"\"\"\n",
    "    # Get the data\n",
    "    region_data = sc.get_by_region(region_names)\n",
    "\n",
    "    # if date range is not None, filter the data\n",
    "    if date_range is not None:\n",
    "        region_data = region_data[region_data[\"date\"].between(date_range[0], date_range[1])]\n",
    "\n",
    "    # Get the audio features\n",
    "    track_ids = region_data[\"url\"].apply(lambda x: x.split(\"/\")[-1])\n",
    "    audio_features = sw.get_audio_features(track_ids)\n",
    "    return audio_features\n",
    "\n",
    "# get_region_audio_features(sw, sc, [\"Turkey\"], date_range = (\"2020-01-01\", \"2020-04-10\"))\n",
    "\n",
    "def get_data_by_region_date(sw : SpotifyWrapper, sc : SpotifyCharts, region_names, date_range = None):\n",
    "    \"\"\"\n",
    "    Get a audio features of a data limited with a region\n",
    "    \"\"\"\n",
    "    # Get the data\n",
    "    region_data = sc.get_by_region(region_names)\n",
    "\n",
    "    # if date range is not None, filter the data\n",
    "    if date_range is not None:\n",
    "        region_data = region_data[region_data[\"date\"].between(date_range[0], date_range[1])]\n",
    "\n",
    "    return region_data\n",
    "\n",
    "_ds = get_data_by_region_date(sw, sc, [\"Germany\"], date_range = (\"2020-01-01\", \"2020-01-07\"))\n",
    "_ds[_ds[\"chart\"] == 'viral50']"
   ]
  },
  {
   "cell_type": "code",
   "execution_count": 28,
   "metadata": {},
   "outputs": [
    {
     "name": "stderr",
     "output_type": "stream",
     "text": [
      "100%|██████████| 2178/2178 [01:42<00:00, 21.20it/s] \n"
     ]
    },
    {
     "ename": "AttributeError",
     "evalue": "'NoneType' object has no attribute 'keys'",
     "output_type": "error",
     "traceback": [
      "\u001b[0;31m---------------------------------------------------------------------------\u001b[0m",
      "\u001b[0;31mAttributeError\u001b[0m                            Traceback (most recent call last)",
      "\u001b[1;32m/Users/kbora/Documents/Spoti-Youtube/source/eda.ipynb Cell 8\u001b[0m line \u001b[0;36m<cell line: 40>\u001b[0;34m()\u001b[0m\n\u001b[1;32m     <a href='vscode-notebook-cell:/Users/kbora/Documents/Spoti-Youtube/source/eda.ipynb#X10sZmlsZQ%3D%3D?line=36'>37</a>\u001b[0m         audio_features\u001b[39m.\u001b[39mextend(audio_features_batch)\n\u001b[1;32m     <a href='vscode-notebook-cell:/Users/kbora/Documents/Spoti-Youtube/source/eda.ipynb#X10sZmlsZQ%3D%3D?line=38'>39</a>\u001b[0m \u001b[39m# Create a dataframe for audio features and URL\u001b[39;00m\n\u001b[0;32m---> <a href='vscode-notebook-cell:/Users/kbora/Documents/Spoti-Youtube/source/eda.ipynb#X10sZmlsZQ%3D%3D?line=39'>40</a>\u001b[0m audio_features_df \u001b[39m=\u001b[39m pd\u001b[39m.\u001b[39;49mDataFrame(audio_features)\n\u001b[1;32m     <a href='vscode-notebook-cell:/Users/kbora/Documents/Spoti-Youtube/source/eda.ipynb#X10sZmlsZQ%3D%3D?line=40'>41</a>\u001b[0m audio_features_df[\u001b[39m\"\u001b[39m\u001b[39murl\u001b[39m\u001b[39m\"\u001b[39m] \u001b[39m=\u001b[39m unique_urls\n",
      "File \u001b[0;32m~/opt/anaconda3/envs/dl/lib/python3.10/site-packages/pandas/core/frame.py:721\u001b[0m, in \u001b[0;36mDataFrame.__init__\u001b[0;34m(self, data, index, columns, dtype, copy)\u001b[0m\n\u001b[1;32m    716\u001b[0m     \u001b[39mif\u001b[39;00m columns \u001b[39mis\u001b[39;00m \u001b[39mnot\u001b[39;00m \u001b[39mNone\u001b[39;00m:\n\u001b[1;32m    717\u001b[0m         \u001b[39m# error: Argument 1 to \"ensure_index\" has incompatible type\u001b[39;00m\n\u001b[1;32m    718\u001b[0m         \u001b[39m# \"Collection[Any]\"; expected \"Union[Union[Union[ExtensionArray,\u001b[39;00m\n\u001b[1;32m    719\u001b[0m         \u001b[39m# ndarray], Index, Series], Sequence[Any]]\"\u001b[39;00m\n\u001b[1;32m    720\u001b[0m         columns \u001b[39m=\u001b[39m ensure_index(columns)  \u001b[39m# type: ignore[arg-type]\u001b[39;00m\n\u001b[0;32m--> 721\u001b[0m     arrays, columns, index \u001b[39m=\u001b[39m nested_data_to_arrays(\n\u001b[1;32m    722\u001b[0m         \u001b[39m# error: Argument 3 to \"nested_data_to_arrays\" has incompatible\u001b[39;49;00m\n\u001b[1;32m    723\u001b[0m         \u001b[39m# type \"Optional[Collection[Any]]\"; expected \"Optional[Index]\"\u001b[39;49;00m\n\u001b[1;32m    724\u001b[0m         data,\n\u001b[1;32m    725\u001b[0m         columns,\n\u001b[1;32m    726\u001b[0m         index,  \u001b[39m# type: ignore[arg-type]\u001b[39;49;00m\n\u001b[1;32m    727\u001b[0m         dtype,\n\u001b[1;32m    728\u001b[0m     )\n\u001b[1;32m    729\u001b[0m     mgr \u001b[39m=\u001b[39m arrays_to_mgr(\n\u001b[1;32m    730\u001b[0m         arrays,\n\u001b[1;32m    731\u001b[0m         columns,\n\u001b[0;32m   (...)\u001b[0m\n\u001b[1;32m    734\u001b[0m         typ\u001b[39m=\u001b[39mmanager,\n\u001b[1;32m    735\u001b[0m     )\n\u001b[1;32m    736\u001b[0m \u001b[39melse\u001b[39;00m:\n",
      "File \u001b[0;32m~/opt/anaconda3/envs/dl/lib/python3.10/site-packages/pandas/core/internals/construction.py:519\u001b[0m, in \u001b[0;36mnested_data_to_arrays\u001b[0;34m(data, columns, index, dtype)\u001b[0m\n\u001b[1;32m    516\u001b[0m \u001b[39mif\u001b[39;00m is_named_tuple(data[\u001b[39m0\u001b[39m]) \u001b[39mand\u001b[39;00m columns \u001b[39mis\u001b[39;00m \u001b[39mNone\u001b[39;00m:\n\u001b[1;32m    517\u001b[0m     columns \u001b[39m=\u001b[39m ensure_index(data[\u001b[39m0\u001b[39m]\u001b[39m.\u001b[39m_fields)\n\u001b[0;32m--> 519\u001b[0m arrays, columns \u001b[39m=\u001b[39m to_arrays(data, columns, dtype\u001b[39m=\u001b[39;49mdtype)\n\u001b[1;32m    520\u001b[0m columns \u001b[39m=\u001b[39m ensure_index(columns)\n\u001b[1;32m    522\u001b[0m \u001b[39mif\u001b[39;00m index \u001b[39mis\u001b[39;00m \u001b[39mNone\u001b[39;00m:\n",
      "File \u001b[0;32m~/opt/anaconda3/envs/dl/lib/python3.10/site-packages/pandas/core/internals/construction.py:875\u001b[0m, in \u001b[0;36mto_arrays\u001b[0;34m(data, columns, dtype)\u001b[0m\n\u001b[1;32m    873\u001b[0m     arr \u001b[39m=\u001b[39m _list_to_arrays(data)\n\u001b[1;32m    874\u001b[0m \u001b[39melif\u001b[39;00m \u001b[39misinstance\u001b[39m(data[\u001b[39m0\u001b[39m], abc\u001b[39m.\u001b[39mMapping):\n\u001b[0;32m--> 875\u001b[0m     arr, columns \u001b[39m=\u001b[39m _list_of_dict_to_arrays(data, columns)\n\u001b[1;32m    876\u001b[0m \u001b[39melif\u001b[39;00m \u001b[39misinstance\u001b[39m(data[\u001b[39m0\u001b[39m], ABCSeries):\n\u001b[1;32m    877\u001b[0m     arr, columns \u001b[39m=\u001b[39m _list_of_series_to_arrays(data, columns)\n",
      "File \u001b[0;32m~/opt/anaconda3/envs/dl/lib/python3.10/site-packages/pandas/core/internals/construction.py:960\u001b[0m, in \u001b[0;36m_list_of_dict_to_arrays\u001b[0;34m(data, columns)\u001b[0m\n\u001b[1;32m    958\u001b[0m     gen \u001b[39m=\u001b[39m (\u001b[39mlist\u001b[39m(x\u001b[39m.\u001b[39mkeys()) \u001b[39mfor\u001b[39;00m x \u001b[39min\u001b[39;00m data)\n\u001b[1;32m    959\u001b[0m     sort \u001b[39m=\u001b[39m \u001b[39mnot\u001b[39;00m \u001b[39many\u001b[39m(\u001b[39misinstance\u001b[39m(d, \u001b[39mdict\u001b[39m) \u001b[39mfor\u001b[39;00m d \u001b[39min\u001b[39;00m data)\n\u001b[0;32m--> 960\u001b[0m     pre_cols \u001b[39m=\u001b[39m lib\u001b[39m.\u001b[39;49mfast_unique_multiple_list_gen(gen, sort\u001b[39m=\u001b[39;49msort)\n\u001b[1;32m    961\u001b[0m     columns \u001b[39m=\u001b[39m ensure_index(pre_cols)\n\u001b[1;32m    963\u001b[0m \u001b[39m# assure that they are of the base dict class and not of derived\u001b[39;00m\n\u001b[1;32m    964\u001b[0m \u001b[39m# classes\u001b[39;00m\n",
      "File \u001b[0;32m~/opt/anaconda3/envs/dl/lib/python3.10/site-packages/pandas/_libs/lib.pyx:403\u001b[0m, in \u001b[0;36mpandas._libs.lib.fast_unique_multiple_list_gen\u001b[0;34m()\u001b[0m\n",
      "File \u001b[0;32m~/opt/anaconda3/envs/dl/lib/python3.10/site-packages/pandas/core/internals/construction.py:958\u001b[0m, in \u001b[0;36m<genexpr>\u001b[0;34m(.0)\u001b[0m\n\u001b[1;32m    938\u001b[0m \u001b[39m\"\"\"\u001b[39;00m\n\u001b[1;32m    939\u001b[0m \u001b[39mConvert list of dicts to numpy arrays\u001b[39;00m\n\u001b[1;32m    940\u001b[0m \n\u001b[0;32m   (...)\u001b[0m\n\u001b[1;32m    955\u001b[0m \u001b[39mcolumns : Index\u001b[39;00m\n\u001b[1;32m    956\u001b[0m \u001b[39m\"\"\"\u001b[39;00m\n\u001b[1;32m    957\u001b[0m \u001b[39mif\u001b[39;00m columns \u001b[39mis\u001b[39;00m \u001b[39mNone\u001b[39;00m:\n\u001b[0;32m--> 958\u001b[0m     gen \u001b[39m=\u001b[39m (\u001b[39mlist\u001b[39m(x\u001b[39m.\u001b[39;49mkeys()) \u001b[39mfor\u001b[39;00m x \u001b[39min\u001b[39;00m data)\n\u001b[1;32m    959\u001b[0m     sort \u001b[39m=\u001b[39m \u001b[39mnot\u001b[39;00m \u001b[39many\u001b[39m(\u001b[39misinstance\u001b[39m(d, \u001b[39mdict\u001b[39m) \u001b[39mfor\u001b[39;00m d \u001b[39min\u001b[39;00m data)\n\u001b[1;32m    960\u001b[0m     pre_cols \u001b[39m=\u001b[39m lib\u001b[39m.\u001b[39mfast_unique_multiple_list_gen(gen, sort\u001b[39m=\u001b[39msort)\n",
      "\u001b[0;31mAttributeError\u001b[0m: 'NoneType' object has no attribute 'keys'"
     ]
    }
   ],
   "source": [
    "import pandas as pd\n",
    "import tqdm\n",
    "import time\n",
    "import requests\n",
    "from spotipy import SpotifyException\n",
    "# Get the unique title, artist pairs\n",
    "ds = sc.df\n",
    "sp = sw.sp\n",
    "\n",
    "# Get the unique URLs\n",
    "unique_urls = ds[\"url\"].unique()\n",
    "\n",
    "# Split '\\' and get the last element\n",
    "unique_track_ids = [url.split(\"/\")[-1] for url in unique_urls]\n",
    "\n",
    "def get_audio_features(track_ids):\n",
    "    try:\n",
    "        return sp.audio_features(track_ids)\n",
    "    except  SpotifyException as e:\n",
    "        # Wait for 2 seconds before retrying\n",
    "        # print(\"Rate limit reached, waiting for a minute \")\n",
    "        # time.sleep(60)\n",
    "        print(e)\n",
    "        return get_audio_features(track_ids)\n",
    "\n",
    "if len(unique_track_ids) > 100:\n",
    "    splitted = [unique_track_ids[i:i + 100] for i in range(0, len(unique_track_ids), 100)]\n",
    "\n",
    "    audio_features = []\n",
    "    # approximately 180 requests per minute can be made so we can wait 0.33 seconds between each request\n",
    "    for i in tqdm.tqdm(range(len(splitted))):\n",
    "        if i < 2000:\n",
    "            continue\n",
    "        time.sleep(0.33)\n",
    "        # Use the get_audio_features function which handles 429 errors\n",
    "        audio_features_batch = get_audio_features(splitted[i])\n",
    "        audio_features.extend(audio_features_batch)\n",
    "\n",
    "# Create a dataframe for audio features and URL\n",
    "audio_features_df = pd.DataFrame(audio_features)\n",
    "audio_features_df[\"url\"] = unique_urls\n",
    "\n",
    "# # Save data \n",
    "# audio_features_df.to_csv(\"../data/audio_features_ct.csv\", index=False)\n"
   ]
  },
  {
   "cell_type": "code",
   "execution_count": 31,
   "metadata": {},
   "outputs": [],
   "source": [
    "# remove none value\n",
    "audio_features = [x for x in audio_features if x is not None]"
   ]
  },
  {
   "cell_type": "code",
   "execution_count": 16,
   "metadata": {},
   "outputs": [
    {
     "ename": "AttributeError",
     "evalue": "'NoneType' object has no attribute 'keys'",
     "output_type": "error",
     "traceback": [
      "\u001b[0;31m---------------------------------------------------------------------------\u001b[0m",
      "\u001b[0;31mAttributeError\u001b[0m                            Traceback (most recent call last)",
      "\u001b[1;32m/Users/kbora/Documents/Spoti-Youtube/source/eda.ipynb Cell 10\u001b[0m line \u001b[0;36m<cell line: 2>\u001b[0;34m()\u001b[0m\n\u001b[1;32m      <a href='vscode-notebook-cell:/Users/kbora/Documents/Spoti-Youtube/source/eda.ipynb#X11sZmlsZQ%3D%3D?line=0'>1</a>\u001b[0m \u001b[39m# Create a dataframe for audio features and URL\u001b[39;00m\n\u001b[0;32m----> <a href='vscode-notebook-cell:/Users/kbora/Documents/Spoti-Youtube/source/eda.ipynb#X11sZmlsZQ%3D%3D?line=1'>2</a>\u001b[0m audio_features_df \u001b[39m=\u001b[39m pd\u001b[39m.\u001b[39;49mDataFrame(audio_features)\n\u001b[1;32m      <a href='vscode-notebook-cell:/Users/kbora/Documents/Spoti-Youtube/source/eda.ipynb#X11sZmlsZQ%3D%3D?line=2'>3</a>\u001b[0m audio_features_df[\u001b[39m\"\u001b[39m\u001b[39murl\u001b[39m\u001b[39m\"\u001b[39m] \u001b[39m=\u001b[39m unique_track_ids[:audio_features_df\u001b[39m.\u001b[39mshape[\u001b[39m0\u001b[39m]]\n\u001b[1;32m      <a href='vscode-notebook-cell:/Users/kbora/Documents/Spoti-Youtube/source/eda.ipynb#X11sZmlsZQ%3D%3D?line=4'>5</a>\u001b[0m \u001b[39m# Save data \u001b[39;00m\n",
      "File \u001b[0;32m~/opt/anaconda3/envs/dl/lib/python3.10/site-packages/pandas/core/frame.py:721\u001b[0m, in \u001b[0;36mDataFrame.__init__\u001b[0;34m(self, data, index, columns, dtype, copy)\u001b[0m\n\u001b[1;32m    716\u001b[0m     \u001b[39mif\u001b[39;00m columns \u001b[39mis\u001b[39;00m \u001b[39mnot\u001b[39;00m \u001b[39mNone\u001b[39;00m:\n\u001b[1;32m    717\u001b[0m         \u001b[39m# error: Argument 1 to \"ensure_index\" has incompatible type\u001b[39;00m\n\u001b[1;32m    718\u001b[0m         \u001b[39m# \"Collection[Any]\"; expected \"Union[Union[Union[ExtensionArray,\u001b[39;00m\n\u001b[1;32m    719\u001b[0m         \u001b[39m# ndarray], Index, Series], Sequence[Any]]\"\u001b[39;00m\n\u001b[1;32m    720\u001b[0m         columns \u001b[39m=\u001b[39m ensure_index(columns)  \u001b[39m# type: ignore[arg-type]\u001b[39;00m\n\u001b[0;32m--> 721\u001b[0m     arrays, columns, index \u001b[39m=\u001b[39m nested_data_to_arrays(\n\u001b[1;32m    722\u001b[0m         \u001b[39m# error: Argument 3 to \"nested_data_to_arrays\" has incompatible\u001b[39;49;00m\n\u001b[1;32m    723\u001b[0m         \u001b[39m# type \"Optional[Collection[Any]]\"; expected \"Optional[Index]\"\u001b[39;49;00m\n\u001b[1;32m    724\u001b[0m         data,\n\u001b[1;32m    725\u001b[0m         columns,\n\u001b[1;32m    726\u001b[0m         index,  \u001b[39m# type: ignore[arg-type]\u001b[39;49;00m\n\u001b[1;32m    727\u001b[0m         dtype,\n\u001b[1;32m    728\u001b[0m     )\n\u001b[1;32m    729\u001b[0m     mgr \u001b[39m=\u001b[39m arrays_to_mgr(\n\u001b[1;32m    730\u001b[0m         arrays,\n\u001b[1;32m    731\u001b[0m         columns,\n\u001b[0;32m   (...)\u001b[0m\n\u001b[1;32m    734\u001b[0m         typ\u001b[39m=\u001b[39mmanager,\n\u001b[1;32m    735\u001b[0m     )\n\u001b[1;32m    736\u001b[0m \u001b[39melse\u001b[39;00m:\n",
      "File \u001b[0;32m~/opt/anaconda3/envs/dl/lib/python3.10/site-packages/pandas/core/internals/construction.py:519\u001b[0m, in \u001b[0;36mnested_data_to_arrays\u001b[0;34m(data, columns, index, dtype)\u001b[0m\n\u001b[1;32m    516\u001b[0m \u001b[39mif\u001b[39;00m is_named_tuple(data[\u001b[39m0\u001b[39m]) \u001b[39mand\u001b[39;00m columns \u001b[39mis\u001b[39;00m \u001b[39mNone\u001b[39;00m:\n\u001b[1;32m    517\u001b[0m     columns \u001b[39m=\u001b[39m ensure_index(data[\u001b[39m0\u001b[39m]\u001b[39m.\u001b[39m_fields)\n\u001b[0;32m--> 519\u001b[0m arrays, columns \u001b[39m=\u001b[39m to_arrays(data, columns, dtype\u001b[39m=\u001b[39;49mdtype)\n\u001b[1;32m    520\u001b[0m columns \u001b[39m=\u001b[39m ensure_index(columns)\n\u001b[1;32m    522\u001b[0m \u001b[39mif\u001b[39;00m index \u001b[39mis\u001b[39;00m \u001b[39mNone\u001b[39;00m:\n",
      "File \u001b[0;32m~/opt/anaconda3/envs/dl/lib/python3.10/site-packages/pandas/core/internals/construction.py:875\u001b[0m, in \u001b[0;36mto_arrays\u001b[0;34m(data, columns, dtype)\u001b[0m\n\u001b[1;32m    873\u001b[0m     arr \u001b[39m=\u001b[39m _list_to_arrays(data)\n\u001b[1;32m    874\u001b[0m \u001b[39melif\u001b[39;00m \u001b[39misinstance\u001b[39m(data[\u001b[39m0\u001b[39m], abc\u001b[39m.\u001b[39mMapping):\n\u001b[0;32m--> 875\u001b[0m     arr, columns \u001b[39m=\u001b[39m _list_of_dict_to_arrays(data, columns)\n\u001b[1;32m    876\u001b[0m \u001b[39melif\u001b[39;00m \u001b[39misinstance\u001b[39m(data[\u001b[39m0\u001b[39m], ABCSeries):\n\u001b[1;32m    877\u001b[0m     arr, columns \u001b[39m=\u001b[39m _list_of_series_to_arrays(data, columns)\n",
      "File \u001b[0;32m~/opt/anaconda3/envs/dl/lib/python3.10/site-packages/pandas/core/internals/construction.py:960\u001b[0m, in \u001b[0;36m_list_of_dict_to_arrays\u001b[0;34m(data, columns)\u001b[0m\n\u001b[1;32m    958\u001b[0m     gen \u001b[39m=\u001b[39m (\u001b[39mlist\u001b[39m(x\u001b[39m.\u001b[39mkeys()) \u001b[39mfor\u001b[39;00m x \u001b[39min\u001b[39;00m data)\n\u001b[1;32m    959\u001b[0m     sort \u001b[39m=\u001b[39m \u001b[39mnot\u001b[39;00m \u001b[39many\u001b[39m(\u001b[39misinstance\u001b[39m(d, \u001b[39mdict\u001b[39m) \u001b[39mfor\u001b[39;00m d \u001b[39min\u001b[39;00m data)\n\u001b[0;32m--> 960\u001b[0m     pre_cols \u001b[39m=\u001b[39m lib\u001b[39m.\u001b[39;49mfast_unique_multiple_list_gen(gen, sort\u001b[39m=\u001b[39;49msort)\n\u001b[1;32m    961\u001b[0m     columns \u001b[39m=\u001b[39m ensure_index(pre_cols)\n\u001b[1;32m    963\u001b[0m \u001b[39m# assure that they are of the base dict class and not of derived\u001b[39;00m\n\u001b[1;32m    964\u001b[0m \u001b[39m# classes\u001b[39;00m\n",
      "File \u001b[0;32m~/opt/anaconda3/envs/dl/lib/python3.10/site-packages/pandas/_libs/lib.pyx:403\u001b[0m, in \u001b[0;36mpandas._libs.lib.fast_unique_multiple_list_gen\u001b[0;34m()\u001b[0m\n",
      "File \u001b[0;32m~/opt/anaconda3/envs/dl/lib/python3.10/site-packages/pandas/core/internals/construction.py:958\u001b[0m, in \u001b[0;36m<genexpr>\u001b[0;34m(.0)\u001b[0m\n\u001b[1;32m    938\u001b[0m \u001b[39m\"\"\"\u001b[39;00m\n\u001b[1;32m    939\u001b[0m \u001b[39mConvert list of dicts to numpy arrays\u001b[39;00m\n\u001b[1;32m    940\u001b[0m \n\u001b[0;32m   (...)\u001b[0m\n\u001b[1;32m    955\u001b[0m \u001b[39mcolumns : Index\u001b[39;00m\n\u001b[1;32m    956\u001b[0m \u001b[39m\"\"\"\u001b[39;00m\n\u001b[1;32m    957\u001b[0m \u001b[39mif\u001b[39;00m columns \u001b[39mis\u001b[39;00m \u001b[39mNone\u001b[39;00m:\n\u001b[0;32m--> 958\u001b[0m     gen \u001b[39m=\u001b[39m (\u001b[39mlist\u001b[39m(x\u001b[39m.\u001b[39;49mkeys()) \u001b[39mfor\u001b[39;00m x \u001b[39min\u001b[39;00m data)\n\u001b[1;32m    959\u001b[0m     sort \u001b[39m=\u001b[39m \u001b[39mnot\u001b[39;00m \u001b[39many\u001b[39m(\u001b[39misinstance\u001b[39m(d, \u001b[39mdict\u001b[39m) \u001b[39mfor\u001b[39;00m d \u001b[39min\u001b[39;00m data)\n\u001b[1;32m    960\u001b[0m     pre_cols \u001b[39m=\u001b[39m lib\u001b[39m.\u001b[39mfast_unique_multiple_list_gen(gen, sort\u001b[39m=\u001b[39msort)\n",
      "\u001b[0;31mAttributeError\u001b[0m: 'NoneType' object has no attribute 'keys'"
     ]
    }
   ],
   "source": [
    "# Create a dataframe for audio features and URL\n",
    "audio_features_df = pd.DataFrame(audio_features)\n",
    "audio_features_df[\"url\"] = unique_track_ids[:audio_features_df.shape[0]]\n",
    "\n",
    "# Save data \n",
    "audio_features_df.to_csv(\"../data/audio_features_2.csv\", index=False)"
   ]
  },
  {
   "cell_type": "code",
   "execution_count": 20,
   "metadata": {},
   "outputs": [],
   "source": [
    "# Drop the nones in audio_features list\n",
    "audio_features = [x for x in audio_features if x is not None]"
   ]
  },
  {
   "cell_type": "code",
   "execution_count": 32,
   "metadata": {},
   "outputs": [
    {
     "data": {
      "text/plain": [
       "{'danceability': 0.609,\n",
       " 'energy': 0.512,\n",
       " 'key': 11,\n",
       " 'loudness': -12.081,\n",
       " 'mode': 0,\n",
       " 'speechiness': 0.0288,\n",
       " 'acousticness': 0.39,\n",
       " 'instrumentalness': 0.0042,\n",
       " 'liveness': 0.0655,\n",
       " 'valence': 0.0778,\n",
       " 'tempo': 118.008,\n",
       " 'type': 'audio_features',\n",
       " 'id': '6FIvxqDq1Sc39uwqELQTpr',\n",
       " 'uri': 'spotify:track:6FIvxqDq1Sc39uwqELQTpr',\n",
       " 'track_href': 'https://api.spotify.com/v1/tracks/6FIvxqDq1Sc39uwqELQTpr',\n",
       " 'analysis_url': 'https://api.spotify.com/v1/audio-analysis/6FIvxqDq1Sc39uwqELQTpr',\n",
       " 'duration_ms': 223739,\n",
       " 'time_signature': 4}"
      ]
     },
     "execution_count": 32,
     "metadata": {},
     "output_type": "execute_result"
    }
   ],
   "source": [
    "audio_features[0]"
   ]
  },
  {
   "cell_type": "code",
   "execution_count": 33,
   "metadata": {},
   "outputs": [],
   "source": [
    "audio_features_df = pd.DataFrame(audio_features)\n",
    "\n",
    "# get track_id from track_href .split(\"/\")[-1]\n",
    "audio_features_df[\"track_id\"] = audio_features_df[\"track_href\"].apply(lambda x: x.split(\"/\")[-1])\n"
   ]
  },
  {
   "cell_type": "code",
   "execution_count": 35,
   "metadata": {},
   "outputs": [
    {
     "data": {
      "text/plain": [
       "17702"
      ]
     },
     "execution_count": 35,
     "metadata": {},
     "output_type": "execute_result"
    }
   ],
   "source": [
    "audio_features_df[\"track_id\"].nunique()"
   ]
  },
  {
   "cell_type": "code",
   "execution_count": 36,
   "metadata": {},
   "outputs": [],
   "source": [
    "audio_features_df.to_csv(\"../data/audio_features_2.csv\", index=False)"
   ]
  },
  {
   "cell_type": "code",
   "execution_count": 37,
   "metadata": {},
   "outputs": [],
   "source": [
    "df1 = pd.read_csv(\"../data/audio_features.csv\")\n",
    "df2 = pd.read_csv(\"../data/audio_features_2.csv\")\n",
    "\n",
    "# concatanate the rows\n",
    "df = pd.concat([df1, df2])\n",
    "\n",
    "# eliminate duplicates with track_id\n",
    "df = df.drop_duplicates(subset=['track_id'])\n",
    "\n",
    "df.to_csv(\"../data/audio_features_processed.csv\", index=False)"
   ]
  },
  {
   "cell_type": "code",
   "execution_count": 44,
   "metadata": {},
   "outputs": [
    {
     "data": {
      "text/html": [
       "<div>\n",
       "<style scoped>\n",
       "    .dataframe tbody tr th:only-of-type {\n",
       "        vertical-align: middle;\n",
       "    }\n",
       "\n",
       "    .dataframe tbody tr th {\n",
       "        vertical-align: top;\n",
       "    }\n",
       "\n",
       "    .dataframe thead th {\n",
       "        text-align: right;\n",
       "    }\n",
       "</style>\n",
       "<table border=\"1\" class=\"dataframe\">\n",
       "  <thead>\n",
       "    <tr style=\"text-align: right;\">\n",
       "      <th></th>\n",
       "      <th>0</th>\n",
       "    </tr>\n",
       "  </thead>\n",
       "  <tbody>\n",
       "    <tr>\n",
       "      <th>0</th>\n",
       "      <td>None</td>\n",
       "    </tr>\n",
       "    <tr>\n",
       "      <th>1</th>\n",
       "      <td>None</td>\n",
       "    </tr>\n",
       "    <tr>\n",
       "      <th>2</th>\n",
       "      <td>None</td>\n",
       "    </tr>\n",
       "    <tr>\n",
       "      <th>3</th>\n",
       "      <td>None</td>\n",
       "    </tr>\n",
       "    <tr>\n",
       "      <th>4</th>\n",
       "      <td>None</td>\n",
       "    </tr>\n",
       "    <tr>\n",
       "      <th>5</th>\n",
       "      <td>None</td>\n",
       "    </tr>\n",
       "    <tr>\n",
       "      <th>6</th>\n",
       "      <td>None</td>\n",
       "    </tr>\n",
       "    <tr>\n",
       "      <th>7</th>\n",
       "      <td>None</td>\n",
       "    </tr>\n",
       "    <tr>\n",
       "      <th>8</th>\n",
       "      <td>None</td>\n",
       "    </tr>\n",
       "    <tr>\n",
       "      <th>9</th>\n",
       "      <td>None</td>\n",
       "    </tr>\n",
       "    <tr>\n",
       "      <th>10</th>\n",
       "      <td>None</td>\n",
       "    </tr>\n",
       "    <tr>\n",
       "      <th>11</th>\n",
       "      <td>None</td>\n",
       "    </tr>\n",
       "    <tr>\n",
       "      <th>12</th>\n",
       "      <td>None</td>\n",
       "    </tr>\n",
       "  </tbody>\n",
       "</table>\n",
       "</div>"
      ],
      "text/plain": [
       "       0\n",
       "0   None\n",
       "1   None\n",
       "2   None\n",
       "3   None\n",
       "4   None\n",
       "5   None\n",
       "6   None\n",
       "7   None\n",
       "8   None\n",
       "9   None\n",
       "10  None\n",
       "11  None\n",
       "12  None"
      ]
     },
     "execution_count": 44,
     "metadata": {},
     "output_type": "execute_result"
    }
   ],
   "source": [
    "audio_features_df\n"
   ]
  },
  {
   "cell_type": "code",
   "execution_count": 45,
   "metadata": {},
   "outputs": [
    {
     "name": "stdout",
     "output_type": "stream",
     "text": [
      "['6DCg2lVxo5goz5aC2w82D9', '7sFnb9vK5q0wlfAQRUZITs', '2DEYFawpGha5Zn54Fx6dX5', '4IjwENtDPy4KqpnU9iBBca', '2EqVEnDcVA0qlk52agyGw6', '50Ar6Q1bnWjKGaDHGQTOsk', '0vcQZpthiccMvMlYv2YPzd', '37E2Ld7fZIl9NjVlvlO9OU', '5VKJr18j5O5Bl4KeYrBH0K', '1baW36rUsrJ4H5qj9AYrDa', '3aiLkdJbT9V51m2GAqfn4r', '7eJchyg35TI5g1bVUwGH1A', '3uMIfxV8q5tPTWzJh8s6Mk']\n"
     ]
    },
    {
     "ename": "KeyError",
     "evalue": "'track_href'",
     "output_type": "error",
     "traceback": [
      "\u001b[0;31m---------------------------------------------------------------------------\u001b[0m",
      "\u001b[0;31mKeyError\u001b[0m                                  Traceback (most recent call last)",
      "\u001b[1;32m/Users/kbora/Documents/Spoti-Youtube/source/eda.ipynb Cell 18\u001b[0m line \u001b[0;36m<cell line: 23>\u001b[0;34m()\u001b[0m\n\u001b[1;32m     <a href='vscode-notebook-cell:/Users/kbora/Documents/Spoti-Youtube/source/eda.ipynb#X22sZmlsZQ%3D%3D?line=19'>20</a>\u001b[0m audio_features_df \u001b[39m=\u001b[39m pd\u001b[39m.\u001b[39mDataFrame(audio_features)\n\u001b[1;32m     <a href='vscode-notebook-cell:/Users/kbora/Documents/Spoti-Youtube/source/eda.ipynb#X22sZmlsZQ%3D%3D?line=21'>22</a>\u001b[0m \u001b[39m# get track_id from track_href .split(\"/\")[-1]\u001b[39;00m\n\u001b[0;32m---> <a href='vscode-notebook-cell:/Users/kbora/Documents/Spoti-Youtube/source/eda.ipynb#X22sZmlsZQ%3D%3D?line=22'>23</a>\u001b[0m audio_features_df[\u001b[39m\"\u001b[39m\u001b[39mtrack_id\u001b[39m\u001b[39m\"\u001b[39m] \u001b[39m=\u001b[39m audio_features_df[\u001b[39m\"\u001b[39;49m\u001b[39mtrack_href\u001b[39;49m\u001b[39m\"\u001b[39;49m]\u001b[39m.\u001b[39mapply(\u001b[39mlambda\u001b[39;00m x: x\u001b[39m.\u001b[39msplit(\u001b[39m\"\u001b[39m\u001b[39m/\u001b[39m\u001b[39m\"\u001b[39m)[\u001b[39m-\u001b[39m\u001b[39m1\u001b[39m])\n\u001b[1;32m     <a href='vscode-notebook-cell:/Users/kbora/Documents/Spoti-Youtube/source/eda.ipynb#X22sZmlsZQ%3D%3D?line=24'>25</a>\u001b[0m \u001b[39m# concatanate the rows\u001b[39;00m\n\u001b[1;32m     <a href='vscode-notebook-cell:/Users/kbora/Documents/Spoti-Youtube/source/eda.ipynb#X22sZmlsZQ%3D%3D?line=25'>26</a>\u001b[0m df \u001b[39m=\u001b[39m pd\u001b[39m.\u001b[39mconcat([df, audio_features_df])\n",
      "File \u001b[0;32m~/opt/anaconda3/envs/dl/lib/python3.10/site-packages/pandas/core/frame.py:3505\u001b[0m, in \u001b[0;36mDataFrame.__getitem__\u001b[0;34m(self, key)\u001b[0m\n\u001b[1;32m   3503\u001b[0m \u001b[39mif\u001b[39;00m \u001b[39mself\u001b[39m\u001b[39m.\u001b[39mcolumns\u001b[39m.\u001b[39mnlevels \u001b[39m>\u001b[39m \u001b[39m1\u001b[39m:\n\u001b[1;32m   3504\u001b[0m     \u001b[39mreturn\u001b[39;00m \u001b[39mself\u001b[39m\u001b[39m.\u001b[39m_getitem_multilevel(key)\n\u001b[0;32m-> 3505\u001b[0m indexer \u001b[39m=\u001b[39m \u001b[39mself\u001b[39;49m\u001b[39m.\u001b[39;49mcolumns\u001b[39m.\u001b[39;49mget_loc(key)\n\u001b[1;32m   3506\u001b[0m \u001b[39mif\u001b[39;00m is_integer(indexer):\n\u001b[1;32m   3507\u001b[0m     indexer \u001b[39m=\u001b[39m [indexer]\n",
      "File \u001b[0;32m~/opt/anaconda3/envs/dl/lib/python3.10/site-packages/pandas/core/indexes/range.py:389\u001b[0m, in \u001b[0;36mRangeIndex.get_loc\u001b[0;34m(self, key, method, tolerance)\u001b[0m\n\u001b[1;32m    387\u001b[0m             \u001b[39mraise\u001b[39;00m \u001b[39mKeyError\u001b[39;00m(key) \u001b[39mfrom\u001b[39;00m \u001b[39merr\u001b[39;00m\n\u001b[1;32m    388\u001b[0m     \u001b[39mself\u001b[39m\u001b[39m.\u001b[39m_check_indexing_error(key)\n\u001b[0;32m--> 389\u001b[0m     \u001b[39mraise\u001b[39;00m \u001b[39mKeyError\u001b[39;00m(key)\n\u001b[1;32m    390\u001b[0m \u001b[39mreturn\u001b[39;00m \u001b[39msuper\u001b[39m()\u001b[39m.\u001b[39mget_loc(key, method\u001b[39m=\u001b[39mmethod, tolerance\u001b[39m=\u001b[39mtolerance)\n",
      "\u001b[0;31mKeyError\u001b[0m: 'track_href'"
     ]
    }
   ],
   "source": [
    "# from unique track ids, find which track id is not in df[\"track_id\"]\n",
    "\n",
    "# Get the unique URLs\n",
    "unique_urls = ds[\"url\"].unique()\n",
    "\n",
    "# Split '\\' and get the last element\n",
    "unique_track_ids = [url.split(\"/\")[-1] for url in unique_urls]\n",
    "\n",
    "# get the track ids that are not in df[\"track_id\"]\n",
    "track_ids_not_in_df = list(set(unique_track_ids) - set(df[\"track_id\"].unique()))\n",
    "\n",
    "# get the urls that are not in df[\"url\"]\n",
    "print(track_ids_not_in_df)\n",
    "\n",
    "# explicitly add them to df by using spotify api to get all the audio features\n",
    "\n",
    "audio_features = get_audio_features(track_ids_not_in_df)\n",
    "\n",
    "# Create a dataframe for audio features and URL\n",
    "audio_features_df = pd.DataFrame(audio_features)\n",
    "\n",
    "# get track_id from track_href .split(\"/\")[-1]\n",
    "audio_features_df[\"track_id\"] = audio_features_df[\"track_href\"].apply(lambda x: x.split(\"/\")[-1])\n",
    "\n",
    "# concatanate the rows\n",
    "df = pd.concat([df, audio_features_df])\n",
    "\n",
    "df.to_csv(\"../data/audio_features_processed_last.csv\", index=False)\n"
   ]
  },
  {
   "cell_type": "code",
   "execution_count": 47,
   "metadata": {},
   "outputs": [
    {
     "data": {
      "text/plain": [
       "[None]"
      ]
     },
     "execution_count": 47,
     "metadata": {},
     "output_type": "execute_result"
    }
   ],
   "source": [
    "sp.track(track_id=\"6DCg2lVxo5goz5aC2w82D9\")\n",
    "\n",
    "# get the audio features of the track\n",
    "sp.audio_features(tracks=[\"6DCg2lVxo5goz5aC2w82D9\"])\n"
   ]
  },
  {
   "cell_type": "code",
   "execution_count": null,
   "metadata": {},
   "outputs": [],
   "source": []
  }
 ],
 "metadata": {
  "kernelspec": {
   "display_name": "dl",
   "language": "python",
   "name": "python3"
  },
  "language_info": {
   "codemirror_mode": {
    "name": "ipython",
    "version": 3
   },
   "file_extension": ".py",
   "mimetype": "text/x-python",
   "name": "python",
   "nbconvert_exporter": "python",
   "pygments_lexer": "ipython3",
   "version": "3.10.6"
  }
 },
 "nbformat": 4,
 "nbformat_minor": 2
}
