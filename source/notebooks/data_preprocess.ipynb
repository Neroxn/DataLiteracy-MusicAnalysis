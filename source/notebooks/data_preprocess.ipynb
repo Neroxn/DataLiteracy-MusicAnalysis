{
 "cells": [
  {
   "cell_type": "markdown",
   "metadata": {},
   "source": [
    "## Dataset preprocess & creation\n",
    "This `.ipynb` files is used to preprocess the data & extract necessary fields to be saved using SpotifyAPI.\n"
   ]
  },
  {
   "cell_type": "code",
   "execution_count": 25,
   "metadata": {},
   "outputs": [],
   "source": [
    "# Import the necessary libraries\n",
    "import numpy as np\n",
    "import pandas as pd\n",
    "\n",
    "import spotipy\n",
    "from spotipy.oauth2 import SpotifyOAuth\n",
    "from collections import Counter\n",
    "from tqdm import tqdm"
   ]
  },
  {
   "cell_type": "markdown",
   "metadata": {},
   "source": [
    "## Initialize the SpotifyOAuth and SpotifyClient objects"
   ]
  },
  {
   "cell_type": "code",
   "execution_count": 54,
   "metadata": {},
   "outputs": [],
   "source": [
    "# Load the YAML secrets\n",
    "import yaml\n",
    "secret_path = \"/Users/kbora/Documents/Spoti-Youtube/source/secrets.yaml\"\n",
    "with open(secret_path, 'r') as stream:\n",
    "    try:\n",
    "        secrets = yaml.safe_load(stream)\n",
    "    except yaml.YAMLError as exc:\n",
    "        print(exc)\n",
    "\n",
    "sp_auth = SpotifyOAuth(\n",
    "    client_id=secrets['CLIENT_ID'],\n",
    "    client_secret=secrets['CLIENT_SECRET'],\n",
    "    redirect_uri=secrets['REDIRECT_URI'],\n",
    "    scope=secrets['SCOPE'], \n",
    ")"
   ]
  },
  {
   "cell_type": "code",
   "execution_count": 55,
   "metadata": {},
   "outputs": [],
   "source": [
    "sp = spotipy.Spotify(auth_manager=sp_auth)"
   ]
  },
  {
   "cell_type": "markdown",
   "metadata": {},
   "source": [
    "## Load the charts dataset"
   ]
  },
  {
   "cell_type": "code",
   "execution_count": 6,
   "metadata": {},
   "outputs": [
    {
     "data": {
      "text/html": [
       "<div>\n",
       "<style scoped>\n",
       "    .dataframe tbody tr th:only-of-type {\n",
       "        vertical-align: middle;\n",
       "    }\n",
       "\n",
       "    .dataframe tbody tr th {\n",
       "        vertical-align: top;\n",
       "    }\n",
       "\n",
       "    .dataframe thead th {\n",
       "        text-align: right;\n",
       "    }\n",
       "</style>\n",
       "<table border=\"1\" class=\"dataframe\">\n",
       "  <thead>\n",
       "    <tr style=\"text-align: right;\">\n",
       "      <th></th>\n",
       "      <th>title</th>\n",
       "      <th>rank</th>\n",
       "      <th>date</th>\n",
       "      <th>artist</th>\n",
       "      <th>url</th>\n",
       "      <th>region</th>\n",
       "      <th>chart</th>\n",
       "      <th>trend</th>\n",
       "      <th>streams</th>\n",
       "    </tr>\n",
       "  </thead>\n",
       "  <tbody>\n",
       "    <tr>\n",
       "      <th>0</th>\n",
       "      <td>Chantaje (feat. Maluma)</td>\n",
       "      <td>1</td>\n",
       "      <td>2017-01-01</td>\n",
       "      <td>Shakira</td>\n",
       "      <td>https://open.spotify.com/track/6mICuAdrwEjh6Y6...</td>\n",
       "      <td>Argentina</td>\n",
       "      <td>top200</td>\n",
       "      <td>SAME_POSITION</td>\n",
       "      <td>253019.0</td>\n",
       "    </tr>\n",
       "    <tr>\n",
       "      <th>1</th>\n",
       "      <td>Vente Pa' Ca (feat. Maluma)</td>\n",
       "      <td>2</td>\n",
       "      <td>2017-01-01</td>\n",
       "      <td>Ricky Martin</td>\n",
       "      <td>https://open.spotify.com/track/7DM4BPaS7uofFul...</td>\n",
       "      <td>Argentina</td>\n",
       "      <td>top200</td>\n",
       "      <td>MOVE_UP</td>\n",
       "      <td>223988.0</td>\n",
       "    </tr>\n",
       "    <tr>\n",
       "      <th>2</th>\n",
       "      <td>Reggaetón Lento (Bailemos)</td>\n",
       "      <td>3</td>\n",
       "      <td>2017-01-01</td>\n",
       "      <td>CNCO</td>\n",
       "      <td>https://open.spotify.com/track/3AEZUABDXNtecAO...</td>\n",
       "      <td>Argentina</td>\n",
       "      <td>top200</td>\n",
       "      <td>MOVE_DOWN</td>\n",
       "      <td>210943.0</td>\n",
       "    </tr>\n",
       "    <tr>\n",
       "      <th>3</th>\n",
       "      <td>Safari</td>\n",
       "      <td>4</td>\n",
       "      <td>2017-01-01</td>\n",
       "      <td>J Balvin, Pharrell Williams, BIA, Sky</td>\n",
       "      <td>https://open.spotify.com/track/6rQSrBHf7HlZjtc...</td>\n",
       "      <td>Argentina</td>\n",
       "      <td>top200</td>\n",
       "      <td>SAME_POSITION</td>\n",
       "      <td>173865.0</td>\n",
       "    </tr>\n",
       "    <tr>\n",
       "      <th>4</th>\n",
       "      <td>Shaky Shaky</td>\n",
       "      <td>5</td>\n",
       "      <td>2017-01-01</td>\n",
       "      <td>Daddy Yankee</td>\n",
       "      <td>https://open.spotify.com/track/58IL315gMSTD37D...</td>\n",
       "      <td>Argentina</td>\n",
       "      <td>top200</td>\n",
       "      <td>MOVE_UP</td>\n",
       "      <td>153956.0</td>\n",
       "    </tr>\n",
       "  </tbody>\n",
       "</table>\n",
       "</div>"
      ],
      "text/plain": [
       "                         title  rank        date  \\\n",
       "0      Chantaje (feat. Maluma)     1  2017-01-01   \n",
       "1  Vente Pa' Ca (feat. Maluma)     2  2017-01-01   \n",
       "2   Reggaetón Lento (Bailemos)     3  2017-01-01   \n",
       "3                       Safari     4  2017-01-01   \n",
       "4                  Shaky Shaky     5  2017-01-01   \n",
       "\n",
       "                                  artist  \\\n",
       "0                                Shakira   \n",
       "1                           Ricky Martin   \n",
       "2                                   CNCO   \n",
       "3  J Balvin, Pharrell Williams, BIA, Sky   \n",
       "4                           Daddy Yankee   \n",
       "\n",
       "                                                 url     region   chart  \\\n",
       "0  https://open.spotify.com/track/6mICuAdrwEjh6Y6...  Argentina  top200   \n",
       "1  https://open.spotify.com/track/7DM4BPaS7uofFul...  Argentina  top200   \n",
       "2  https://open.spotify.com/track/3AEZUABDXNtecAO...  Argentina  top200   \n",
       "3  https://open.spotify.com/track/6rQSrBHf7HlZjtc...  Argentina  top200   \n",
       "4  https://open.spotify.com/track/58IL315gMSTD37D...  Argentina  top200   \n",
       "\n",
       "           trend   streams  \n",
       "0  SAME_POSITION  253019.0  \n",
       "1        MOVE_UP  223988.0  \n",
       "2      MOVE_DOWN  210943.0  \n",
       "3  SAME_POSITION  173865.0  \n",
       "4        MOVE_UP  153956.0  "
      ]
     },
     "execution_count": 6,
     "metadata": {},
     "output_type": "execute_result"
    }
   ],
   "source": [
    "CHARTS_PATH = \"/Users/kbora/Documents/Spoti-Youtube/data/charts.csv\"\n",
    "\n",
    "# Load the charts\n",
    "charts = pd.read_csv(CHARTS_PATH)\n",
    "charts.head()"
   ]
  },
  {
   "cell_type": "code",
   "execution_count": 7,
   "metadata": {},
   "outputs": [
    {
     "data": {
      "text/plain": [
       "Index(['title', 'rank', 'date', 'artist', 'url', 'region', 'chart', 'trend',\n",
       "       'streams'],\n",
       "      dtype='object')"
      ]
     },
     "execution_count": 7,
     "metadata": {},
     "output_type": "execute_result"
    }
   ],
   "source": [
    "charts.columns"
   ]
  },
  {
   "cell_type": "markdown",
   "metadata": {},
   "source": [
    "## Build a dataset with spotify API"
   ]
  },
  {
   "cell_type": "code",
   "execution_count": 62,
   "metadata": {},
   "outputs": [],
   "source": [
    "# Functions to get the audio features of tracks\n",
    "from typing import List, Dict, Any\n",
    "import time\n",
    "from functools import wraps\n",
    "\n",
    "\n",
    "def sleep_wrapper(t = 0.33):\n",
    "    \"\"\"\n",
    "    Wrapper function to sleep for a certain amount of time after each call to the Spotify API.\n",
    "    \"\"\"\n",
    "    def decorator(func):\n",
    "        @wraps(func)\n",
    "        def wrapper(*args, **kwargs):\n",
    "            time.sleep(t)\n",
    "            return func(*args, **kwargs)\n",
    "        return wrapper\n",
    "    return decorator\n",
    "\n",
    "@sleep_wrapper(0.5)\n",
    "def get_audio_feature(sp : spotipy.Spotify, track_ids: List[str]) -> Dict[str, Any]:\n",
    "    \"\"\"\n",
    "    Get the audio features of a track.\n",
    "    \"\"\"\n",
    "    return sp.audio_features(track_ids)\n",
    "\n",
    "def get_audio_features(sp : spotipy.Spotify, track_ids: List[str], tracks_per_call : int = 100) -> List[Dict[str, Any]]:\n",
    "    \"\"\"\n",
    "    Get the audio features of a list of tracks.\n",
    "    \"\"\"\n",
    "    # Split the track ids into chunks of 100\n",
    "    track_ids_chunks = [track_ids[i:i + tracks_per_call] for i in range(0, len(track_ids), tracks_per_call)]\n",
    "    # Get the audio features of each chunk\n",
    "    audio_features = []\n",
    "    for chunk in tqdm(track_ids_chunks):\n",
    "        try:\n",
    "            audio_features.extend(get_audio_feature(sp, chunk))\n",
    "        except Exception as e:\n",
    "            print(e)\n",
    "            return audio_features\n",
    "    return audio_features\n"
   ]
  },
  {
   "cell_type": "code",
   "execution_count": 57,
   "metadata": {},
   "outputs": [
    {
     "name": "stderr",
     "output_type": "stream",
     "text": [
      "100%|██████████| 1/1 [00:03<00:00,  3.86s/it]\n"
     ]
    }
   ],
   "source": [
    "# Get the all unique track ids from the charts\n",
    "unique_track_ids = charts[\"url\"].apply(lambda x: x.split(\"/\")[-1]).unique().tolist()\n",
    "\n",
    "# Test calls\n",
    "try:\n",
    "    audio_features = get_audio_features(sp, unique_track_ids[:1], tracks_per_call = 100)\n",
    "except Exception as e:\n",
    "    print(e)"
   ]
  },
  {
   "cell_type": "code",
   "execution_count": 59,
   "metadata": {},
   "outputs": [
    {
     "name": "stderr",
     "output_type": "stream",
     "text": [
      "100%|██████████| 1981/1981 [23:02<00:00,  1.43it/s]\n"
     ]
    }
   ],
   "source": [
    "# For all unique track ids, get the audio features\n",
    "audio_features = get_audio_features(sp, unique_track_ids, tracks_per_call = 100)\n",
    "\n",
    "# Remove all the None values\n",
    "audio_features = [af for af in audio_features if af is not None]\n",
    "\n",
    "# Extract important regions\n",
    "AUDIO_FEATURES_COLUMNS = [\n",
    "    'acousticness',\n",
    "    'danceability',\n",
    "    'duration_ms',\n",
    "    'energy',\n",
    "    'instrumentalness',\n",
    "    'key',\n",
    "    'liveness',\n",
    "    'loudness',\n",
    "    'mode',\n",
    "    'speechiness',\n",
    "    'tempo',\n",
    "    'time_signature',\n",
    "    'valence',\n",
    "    'id'\n",
    "]\n",
    "\n",
    "# Create a dataframe from the audio features\n",
    "audio_features_df = pd.DataFrame(audio_features)\n",
    "\n",
    "# Select only the important columns\n",
    "audio_features_df = audio_features_df[AUDIO_FEATURES_COLUMNS]\n",
    "\n",
    "# Save the audio features\n",
    "audio_features_df.to_csv('audio_features.csv', index = False)"
   ]
  },
  {
   "cell_type": "markdown",
   "metadata": {},
   "source": [
    "# Preprocess the charts\n",
    "\n",
    "With given audio features, some track ids does not have audio-features. Eliminate all the missmatches"
   ]
  },
  {
   "cell_type": "code",
   "execution_count": 61,
   "metadata": {},
   "outputs": [],
   "source": [
    "audio_features_track_ids = audio_features_df[\"id\"].tolist()\n",
    "\n",
    "# Drop all the tracks that are not in the charts\n",
    "charts = charts[charts[\"url\"].apply(lambda x: x.split(\"/\")[-1]).isin(audio_features_track_ids)]\n",
    "\n",
    "# Check whether urls in charts and audio features are the same set\n",
    "assert set(charts[\"url\"].apply(lambda x: x.split(\"/\")[-1]).tolist()) == set(audio_features_track_ids)\n",
    "\n",
    "# Save the charts\n",
    "charts.to_csv('charts_processed.csv', index = False)"
   ]
  },
  {
   "cell_type": "code",
   "execution_count": null,
   "metadata": {},
   "outputs": [],
   "source": []
  },
  {
   "cell_type": "code",
   "execution_count": null,
   "metadata": {},
   "outputs": [],
   "source": []
  }
 ],
 "metadata": {
  "kernelspec": {
   "display_name": "dl",
   "language": "python",
   "name": "python3"
  },
  "language_info": {
   "codemirror_mode": {
    "name": "ipython",
    "version": 3
   },
   "file_extension": ".py",
   "mimetype": "text/x-python",
   "name": "python",
   "nbconvert_exporter": "python",
   "pygments_lexer": "ipython3",
   "version": "3.10.6"
  }
 },
 "nbformat": 4,
 "nbformat_minor": 2
}
