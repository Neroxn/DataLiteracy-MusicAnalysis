{
 "cells": [
  {
   "cell_type": "code",
   "execution_count": 1,
   "metadata": {},
   "outputs": [],
   "source": [
    "%load_ext autoreload\n",
    "%autoreload 2\n",
    "\n",
    "DATA_DIR = '../data/'\n",
    "\n",
    "# Explore the columns of data and find outliers\n",
    "import pandas as pd\n",
    "import os.path as osp\n",
    "\n",
    "import warnings\n",
    "warnings.filterwarnings(\"ignore\")\n",
    "\n",
    "import sys\n",
    "sys.path.append('../')"
   ]
  },
  {
   "cell_type": "code",
   "execution_count": 2,
   "metadata": {},
   "outputs": [],
   "source": [
    "# Visualization libraries\n",
    "from source.utils.visualization import *\n",
    "SAVE_EXTENSION = '.pdf'\n",
    "SAVE_DIR = '../figures/'\n",
    "\n",
    "plot_kwargs = {\n",
    "    \"column\" : \"half\",\n",
    "    \"nrows\" : 1,\n",
    "    \"ncols\" : 1,\n",
    "    \"usetex\" : False\n",
    "}\n",
    "setup_plotting_icml2022(\n",
    "    **plot_kwargs\n",
    "    )"
   ]
  },
  {
   "cell_type": "code",
   "execution_count": 3,
   "metadata": {},
   "outputs": [],
   "source": [
    "REFRESH_DATA = True\n",
    "CHARTS_PATH = osp.join(DATA_DIR,'charts_processed.csv')\n",
    "AUDIO_PATH = osp.join(DATA_DIR,'audio_features_processed.csv')"
   ]
  },
  {
   "cell_type": "code",
   "execution_count": 4,
   "metadata": {},
   "outputs": [
    {
     "data": {
      "text/html": [
       "<div>\n",
       "<style scoped>\n",
       "    .dataframe tbody tr th:only-of-type {\n",
       "        vertical-align: middle;\n",
       "    }\n",
       "\n",
       "    .dataframe tbody tr th {\n",
       "        vertical-align: top;\n",
       "    }\n",
       "\n",
       "    .dataframe thead th {\n",
       "        text-align: right;\n",
       "    }\n",
       "</style>\n",
       "<table border=\"1\" class=\"dataframe\">\n",
       "  <thead>\n",
       "    <tr style=\"text-align: right;\">\n",
       "      <th></th>\n",
       "      <th>title</th>\n",
       "      <th>rank</th>\n",
       "      <th>date</th>\n",
       "      <th>artist</th>\n",
       "      <th>url</th>\n",
       "      <th>region</th>\n",
       "      <th>chart</th>\n",
       "      <th>trend</th>\n",
       "      <th>streams</th>\n",
       "    </tr>\n",
       "  </thead>\n",
       "  <tbody>\n",
       "    <tr>\n",
       "      <th>0</th>\n",
       "      <td>Chantaje (feat. Maluma)</td>\n",
       "      <td>1</td>\n",
       "      <td>2017-01-01</td>\n",
       "      <td>Shakira</td>\n",
       "      <td>https://open.spotify.com/track/6mICuAdrwEjh6Y6...</td>\n",
       "      <td>Argentina</td>\n",
       "      <td>top200</td>\n",
       "      <td>SAME_POSITION</td>\n",
       "      <td>253019.0</td>\n",
       "    </tr>\n",
       "    <tr>\n",
       "      <th>1</th>\n",
       "      <td>Vente Pa' Ca (feat. Maluma)</td>\n",
       "      <td>2</td>\n",
       "      <td>2017-01-01</td>\n",
       "      <td>Ricky Martin</td>\n",
       "      <td>https://open.spotify.com/track/7DM4BPaS7uofFul...</td>\n",
       "      <td>Argentina</td>\n",
       "      <td>top200</td>\n",
       "      <td>MOVE_UP</td>\n",
       "      <td>223988.0</td>\n",
       "    </tr>\n",
       "    <tr>\n",
       "      <th>2</th>\n",
       "      <td>Reggaetón Lento (Bailemos)</td>\n",
       "      <td>3</td>\n",
       "      <td>2017-01-01</td>\n",
       "      <td>CNCO</td>\n",
       "      <td>https://open.spotify.com/track/3AEZUABDXNtecAO...</td>\n",
       "      <td>Argentina</td>\n",
       "      <td>top200</td>\n",
       "      <td>MOVE_DOWN</td>\n",
       "      <td>210943.0</td>\n",
       "    </tr>\n",
       "    <tr>\n",
       "      <th>3</th>\n",
       "      <td>Safari</td>\n",
       "      <td>4</td>\n",
       "      <td>2017-01-01</td>\n",
       "      <td>J Balvin, Pharrell Williams, BIA, Sky</td>\n",
       "      <td>https://open.spotify.com/track/6rQSrBHf7HlZjtc...</td>\n",
       "      <td>Argentina</td>\n",
       "      <td>top200</td>\n",
       "      <td>SAME_POSITION</td>\n",
       "      <td>173865.0</td>\n",
       "    </tr>\n",
       "    <tr>\n",
       "      <th>4</th>\n",
       "      <td>Shaky Shaky</td>\n",
       "      <td>5</td>\n",
       "      <td>2017-01-01</td>\n",
       "      <td>Daddy Yankee</td>\n",
       "      <td>https://open.spotify.com/track/58IL315gMSTD37D...</td>\n",
       "      <td>Argentina</td>\n",
       "      <td>top200</td>\n",
       "      <td>MOVE_UP</td>\n",
       "      <td>153956.0</td>\n",
       "    </tr>\n",
       "  </tbody>\n",
       "</table>\n",
       "</div>"
      ],
      "text/plain": [
       "                         title  rank       date  \\\n",
       "0      Chantaje (feat. Maluma)     1 2017-01-01   \n",
       "1  Vente Pa' Ca (feat. Maluma)     2 2017-01-01   \n",
       "2   Reggaetón Lento (Bailemos)     3 2017-01-01   \n",
       "3                       Safari     4 2017-01-01   \n",
       "4                  Shaky Shaky     5 2017-01-01   \n",
       "\n",
       "                                  artist  \\\n",
       "0                                Shakira   \n",
       "1                           Ricky Martin   \n",
       "2                                   CNCO   \n",
       "3  J Balvin, Pharrell Williams, BIA, Sky   \n",
       "4                           Daddy Yankee   \n",
       "\n",
       "                                                 url     region   chart  \\\n",
       "0  https://open.spotify.com/track/6mICuAdrwEjh6Y6...  Argentina  top200   \n",
       "1  https://open.spotify.com/track/7DM4BPaS7uofFul...  Argentina  top200   \n",
       "2  https://open.spotify.com/track/3AEZUABDXNtecAO...  Argentina  top200   \n",
       "3  https://open.spotify.com/track/6rQSrBHf7HlZjtc...  Argentina  top200   \n",
       "4  https://open.spotify.com/track/58IL315gMSTD37D...  Argentina  top200   \n",
       "\n",
       "           trend   streams  \n",
       "0  SAME_POSITION  253019.0  \n",
       "1        MOVE_UP  223988.0  \n",
       "2      MOVE_DOWN  210943.0  \n",
       "3  SAME_POSITION  173865.0  \n",
       "4        MOVE_UP  153956.0  "
      ]
     },
     "execution_count": 4,
     "metadata": {},
     "output_type": "execute_result"
    }
   ],
   "source": [
    "if REFRESH_DATA:\n",
    "\n",
    "    # Load the datasets into dataframes. Read the date column as datetime.date\n",
    "    charts_df = pd.read_csv(CHARTS_PATH, parse_dates=['date'])\n",
    "\n",
    "charts_df['date'] = pd.to_datetime(charts_df['date'])\n",
    "\n",
    "# Display the first few rows of the DataFrame to verify\n",
    "charts_df.head()"
   ]
  },
  {
   "cell_type": "code",
   "execution_count": 6,
   "metadata": {},
   "outputs": [
    {
     "name": "stdout",
     "output_type": "stream",
     "text": [
      "   acousticness  danceability  duration_ms  energy  instrumentalness  key  \\\n",
      "0       0.18700         0.852       195840   0.773          0.000030    8   \n",
      "1       0.00431         0.663       259196   0.920          0.000017   11   \n",
      "2       0.40000         0.761       222560   0.838          0.000000    4   \n",
      "3       0.55100         0.508       205600   0.687          0.000003    0   \n",
      "4       0.07600         0.899       234320   0.626          0.000000    6   \n",
      "\n",
      "   liveness  loudness  mode  speechiness    tempo  time_signature  valence  \\\n",
      "0    0.1590    -2.921     0       0.0776  102.034               4    0.907   \n",
      "1    0.1010    -4.070     0       0.2260   99.935               4    0.533   \n",
      "2    0.1760    -3.073     0       0.0502   93.974               4    0.710   \n",
      "3    0.1260    -4.361     1       0.3260  180.044               4    0.555   \n",
      "4    0.0631    -4.228     0       0.2920   88.007               4    0.873   \n",
      "\n",
      "                 track_id  \n",
      "0  6mICuAdrwEjh6Y6lroV2Kg  \n",
      "1  7DM4BPaS7uofFul3ywMe46  \n",
      "2  3AEZUABDXNtecAOSC1qTfo  \n",
      "3  6rQSrBHf7HlZjtcMZ4S4bO  \n",
      "4  58IL315gMSTD37DOZPJ2hf  \n"
     ]
    }
   ],
   "source": [
    "if REFRESH_DATA:\n",
    "    # Load the audio features dataset\n",
    "    audio_df = pd.read_csv(AUDIO_PATH)\n",
    "\n",
    "    # Change the column-name of 'id' to 'track_id' to match the charts_df\n",
    "    audio_df.rename(columns={'id': 'track_id'}, inplace=True)\n",
    "    print(audio_df.head())\n"
   ]
  },
  {
   "cell_type": "markdown",
   "metadata": {},
   "source": []
  },
  {
   "cell_type": "code",
   "execution_count": 7,
   "metadata": {},
   "outputs": [],
   "source": [
    "# For now only restrict the dataset to top200 charts for stream/ranking analysis.\n",
    "charts_df = charts_df[charts_df[\"chart\"] == \"top200\"]\n",
    "charts_df[\"track_id\"] = charts_df[\"url\"].apply(lambda x: x.split(\"/\")[-1])"
   ]
  },
  {
   "cell_type": "markdown",
   "metadata": {},
   "source": [
    "# Stream proportions"
   ]
  },
  {
   "cell_type": "code",
   "execution_count": 59,
   "metadata": {},
   "outputs": [
    {
     "name": "stderr",
     "output_type": "stream",
     "text": [
      "100%|██████████| 69/69 [02:34<00:00,  2.24s/it]\n"
     ]
    }
   ],
   "source": [
    "import pickle\n",
    "import tqdm\n",
    "from source.utils.regions import get_charts_by_date, get_charts_by_region,get_regional_charts_delta_rank, get_chart_delta_feature_vector\n",
    "\n",
    "test_df = get_charts_by_region(charts_df, \"Germany\")\n",
    "fv_dict = {}\n",
    "for region in tqdm.tqdm(charts_df[\"region\"].unique()):\n",
    "    regional_df = get_charts_by_region(charts_df, region)\n",
    "    fv = get_chart_delta_feature_vector(regional_df, audio_df, date=(\"2017-01-01\",\"2022-01-01\"))\n",
    "    fv_dict[region] = fv\n",
    "\n",
    "with open(f'{DATA_DIR}/fv_regions.pickle','wb') as handle:\n",
    "    pickle.dump(fv_dict, handle, protocol=pickle.HIGHEST_PROTOCOL)"
   ]
  },
  {
   "cell_type": "code",
   "execution_count": 60,
   "metadata": {},
   "outputs": [],
   "source": [
    "# Create a dataframe\n",
    "fv_df = pd.DataFrame(fv_dict)\n",
    "\n",
    "# Create a dataframe\n",
    "fv_df = pd.DataFrame(fv_dict)\n",
    "\n",
    "# Normalize each row\n",
    "fv_df = (fv_df - fv_df.mean(axis=1).values.reshape(-1, 1)) / fv_df.std(axis=1).values.reshape(-1, 1)\n",
    "\n",
    "fv_df_T = fv_df.T\n",
    "\n"
   ]
  },
  {
   "cell_type": "code",
   "execution_count": 61,
   "metadata": {},
   "outputs": [
    {
     "name": "stdout",
     "output_type": "stream",
     "text": [
      "SubdivisionHierarchy(code='GT-GU', country_code='GT', name='Guatemala', parent_code=None, type='Department')\n",
      "SubdivisionHierarchy(code='BE-WLX', country_code='BE', name='Luxembourg', parent='WAL', parent_code='BE-WAL', type='Province')\n",
      "SubdivisionHierarchy(code='LU-LU', country_code='LU', name='Luxembourg', parent_code=None, type='Canton')\n",
      "SubdivisionHierarchy(code='MX-MEX', country_code='MX', name='México', parent_code=None, type='State')\n",
      "SubdivisionHierarchy(code='PA-8', country_code='PA', name='Panamá', parent_code=None, type='Province')\n"
     ]
    },
    {
     "data": {
      "application/vnd.plotly.v1+json": {
       "config": {
        "plotlyServerURL": "https://plot.ly"
       },
       "data": [
        {
         "coloraxis": "coloraxis",
         "geo": "geo",
         "hovertemplate": "<b>%{hovertext}</b><br><br>iso_code=%{location}<br>cluster_label=%{z}<extra></extra>",
         "hovertext": [
          "Argentina",
          "Australia",
          "Brazil",
          "Austria",
          "Belgium",
          "Colombia",
          "Bolivia",
          "Denmark",
          "Bulgaria",
          "Canada",
          "Chile",
          "Costa Rica",
          "Czech Republic",
          "Finland",
          "Dominican Republic",
          "Ecuador",
          "El Salvador",
          "Estonia",
          "France",
          "Germany",
          "Greece",
          "Guatemala",
          "Honduras",
          "Hong Kong",
          "Hungary",
          "Iceland",
          "Indonesia",
          "Ireland",
          "Italy",
          "Japan",
          "Latvia",
          "Lithuania",
          "Malaysia",
          "Luxembourg",
          "Mexico",
          "Netherlands",
          "New Zealand",
          "Nicaragua",
          "Norway",
          "Panama",
          "Paraguay",
          "Peru",
          "Philippines",
          "Poland",
          "Portugal",
          "Singapore",
          "Spain",
          "Slovakia",
          "Sweden",
          "Taiwan",
          "Switzerland",
          "Turkey",
          "United Kingdom",
          "United States",
          "Uruguay",
          "Thailand",
          "Vietnam",
          "Egypt",
          "India",
          "Israel",
          "Morocco",
          "Romania",
          "Saudi Arabia",
          "South Africa",
          "United Arab Emirates",
          "Russia",
          "Ukraine",
          "South Korea"
         ],
         "locations": [
          "ARG",
          "AUS",
          "BRA",
          "AUT",
          "BEL",
          "COL",
          "BOL",
          "DNK",
          "BGR",
          "CAN",
          "CHL",
          "CRI",
          "CZE",
          "FIN",
          "DOM",
          "ECU",
          "SLV",
          "EST",
          "FRA",
          "DEU",
          "GRC",
          "GTM",
          "HND",
          "HKG",
          "HUN",
          "ISL",
          "IDN",
          "IRL",
          "ITA",
          "JPN",
          "LVA",
          "LTU",
          "MYS",
          "LUX",
          "MEX",
          "NLD",
          "NZL",
          "NIC",
          "NOR",
          "PAN",
          "PRY",
          "PER",
          "PHL",
          "POL",
          "PRT",
          "SGP",
          "ESP",
          "SVK",
          "SWE",
          "TWN",
          "CHE",
          "TUR",
          "GBR",
          "USA",
          "URY",
          "THA",
          "VNM",
          "EGY",
          "IND",
          "ISR",
          "MAR",
          "ROU",
          "SAU",
          "ZAF",
          "ARE",
          "RUS",
          "UKR",
          "KOR"
         ],
         "name": "",
         "type": "choropleth",
         "z": [
          3,
          2,
          0,
          1,
          1,
          3,
          3,
          1,
          2,
          2,
          3,
          3,
          1,
          8,
          3,
          3,
          3,
          8,
          1,
          1,
          2,
          3,
          3,
          4,
          8,
          1,
          4,
          8,
          1,
          5,
          8,
          2,
          8,
          6,
          3,
          1,
          2,
          7,
          8,
          3,
          3,
          3,
          4,
          2,
          8,
          4,
          3,
          2,
          8,
          4,
          2,
          8,
          8,
          2,
          3,
          4,
          8,
          1,
          8,
          8,
          1,
          2,
          8,
          2,
          8,
          9,
          9,
          8
         ]
        }
       ],
       "layout": {
        "coloraxis": {
         "colorbar": {
          "title": {
           "text": "cluster_label"
          }
         },
         "colorscale": [
          [
           0,
           "rgb(3, 5, 18)"
          ],
          [
           0.09090909090909091,
           "rgb(25, 25, 51)"
          ],
          [
           0.18181818181818182,
           "rgb(44, 42, 87)"
          ],
          [
           0.2727272727272727,
           "rgb(58, 60, 125)"
          ],
          [
           0.36363636363636365,
           "rgb(62, 83, 160)"
          ],
          [
           0.45454545454545453,
           "rgb(62, 109, 178)"
          ],
          [
           0.5454545454545454,
           "rgb(72, 134, 187)"
          ],
          [
           0.6363636363636364,
           "rgb(89, 159, 196)"
          ],
          [
           0.7272727272727273,
           "rgb(114, 184, 205)"
          ],
          [
           0.8181818181818182,
           "rgb(149, 207, 216)"
          ],
          [
           0.9090909090909091,
           "rgb(192, 229, 232)"
          ],
          [
           1,
           "rgb(234, 252, 253)"
          ]
         ],
         "showscale": false
        },
        "geo": {
         "center": {},
         "domain": {
          "x": [
           0,
           1
          ],
          "y": [
           0,
           1
          ]
         },
         "projection": {
          "type": "natural earth"
         }
        },
        "legend": {
         "tracegroupgap": 0
        },
        "margin": {
         "t": 60
        },
        "template": {
         "data": {
          "bar": [
           {
            "error_x": {
             "color": "#2a3f5f"
            },
            "error_y": {
             "color": "#2a3f5f"
            },
            "marker": {
             "line": {
              "color": "#E5ECF6",
              "width": 0.5
             },
             "pattern": {
              "fillmode": "overlay",
              "size": 10,
              "solidity": 0.2
             }
            },
            "type": "bar"
           }
          ],
          "barpolar": [
           {
            "marker": {
             "line": {
              "color": "#E5ECF6",
              "width": 0.5
             },
             "pattern": {
              "fillmode": "overlay",
              "size": 10,
              "solidity": 0.2
             }
            },
            "type": "barpolar"
           }
          ],
          "carpet": [
           {
            "aaxis": {
             "endlinecolor": "#2a3f5f",
             "gridcolor": "white",
             "linecolor": "white",
             "minorgridcolor": "white",
             "startlinecolor": "#2a3f5f"
            },
            "baxis": {
             "endlinecolor": "#2a3f5f",
             "gridcolor": "white",
             "linecolor": "white",
             "minorgridcolor": "white",
             "startlinecolor": "#2a3f5f"
            },
            "type": "carpet"
           }
          ],
          "choropleth": [
           {
            "colorbar": {
             "outlinewidth": 0,
             "ticks": ""
            },
            "type": "choropleth"
           }
          ],
          "contour": [
           {
            "colorbar": {
             "outlinewidth": 0,
             "ticks": ""
            },
            "colorscale": [
             [
              0,
              "#0d0887"
             ],
             [
              0.1111111111111111,
              "#46039f"
             ],
             [
              0.2222222222222222,
              "#7201a8"
             ],
             [
              0.3333333333333333,
              "#9c179e"
             ],
             [
              0.4444444444444444,
              "#bd3786"
             ],
             [
              0.5555555555555556,
              "#d8576b"
             ],
             [
              0.6666666666666666,
              "#ed7953"
             ],
             [
              0.7777777777777778,
              "#fb9f3a"
             ],
             [
              0.8888888888888888,
              "#fdca26"
             ],
             [
              1,
              "#f0f921"
             ]
            ],
            "type": "contour"
           }
          ],
          "contourcarpet": [
           {
            "colorbar": {
             "outlinewidth": 0,
             "ticks": ""
            },
            "type": "contourcarpet"
           }
          ],
          "heatmap": [
           {
            "colorbar": {
             "outlinewidth": 0,
             "ticks": ""
            },
            "colorscale": [
             [
              0,
              "#0d0887"
             ],
             [
              0.1111111111111111,
              "#46039f"
             ],
             [
              0.2222222222222222,
              "#7201a8"
             ],
             [
              0.3333333333333333,
              "#9c179e"
             ],
             [
              0.4444444444444444,
              "#bd3786"
             ],
             [
              0.5555555555555556,
              "#d8576b"
             ],
             [
              0.6666666666666666,
              "#ed7953"
             ],
             [
              0.7777777777777778,
              "#fb9f3a"
             ],
             [
              0.8888888888888888,
              "#fdca26"
             ],
             [
              1,
              "#f0f921"
             ]
            ],
            "type": "heatmap"
           }
          ],
          "heatmapgl": [
           {
            "colorbar": {
             "outlinewidth": 0,
             "ticks": ""
            },
            "colorscale": [
             [
              0,
              "#0d0887"
             ],
             [
              0.1111111111111111,
              "#46039f"
             ],
             [
              0.2222222222222222,
              "#7201a8"
             ],
             [
              0.3333333333333333,
              "#9c179e"
             ],
             [
              0.4444444444444444,
              "#bd3786"
             ],
             [
              0.5555555555555556,
              "#d8576b"
             ],
             [
              0.6666666666666666,
              "#ed7953"
             ],
             [
              0.7777777777777778,
              "#fb9f3a"
             ],
             [
              0.8888888888888888,
              "#fdca26"
             ],
             [
              1,
              "#f0f921"
             ]
            ],
            "type": "heatmapgl"
           }
          ],
          "histogram": [
           {
            "marker": {
             "pattern": {
              "fillmode": "overlay",
              "size": 10,
              "solidity": 0.2
             }
            },
            "type": "histogram"
           }
          ],
          "histogram2d": [
           {
            "colorbar": {
             "outlinewidth": 0,
             "ticks": ""
            },
            "colorscale": [
             [
              0,
              "#0d0887"
             ],
             [
              0.1111111111111111,
              "#46039f"
             ],
             [
              0.2222222222222222,
              "#7201a8"
             ],
             [
              0.3333333333333333,
              "#9c179e"
             ],
             [
              0.4444444444444444,
              "#bd3786"
             ],
             [
              0.5555555555555556,
              "#d8576b"
             ],
             [
              0.6666666666666666,
              "#ed7953"
             ],
             [
              0.7777777777777778,
              "#fb9f3a"
             ],
             [
              0.8888888888888888,
              "#fdca26"
             ],
             [
              1,
              "#f0f921"
             ]
            ],
            "type": "histogram2d"
           }
          ],
          "histogram2dcontour": [
           {
            "colorbar": {
             "outlinewidth": 0,
             "ticks": ""
            },
            "colorscale": [
             [
              0,
              "#0d0887"
             ],
             [
              0.1111111111111111,
              "#46039f"
             ],
             [
              0.2222222222222222,
              "#7201a8"
             ],
             [
              0.3333333333333333,
              "#9c179e"
             ],
             [
              0.4444444444444444,
              "#bd3786"
             ],
             [
              0.5555555555555556,
              "#d8576b"
             ],
             [
              0.6666666666666666,
              "#ed7953"
             ],
             [
              0.7777777777777778,
              "#fb9f3a"
             ],
             [
              0.8888888888888888,
              "#fdca26"
             ],
             [
              1,
              "#f0f921"
             ]
            ],
            "type": "histogram2dcontour"
           }
          ],
          "mesh3d": [
           {
            "colorbar": {
             "outlinewidth": 0,
             "ticks": ""
            },
            "type": "mesh3d"
           }
          ],
          "parcoords": [
           {
            "line": {
             "colorbar": {
              "outlinewidth": 0,
              "ticks": ""
             }
            },
            "type": "parcoords"
           }
          ],
          "pie": [
           {
            "automargin": true,
            "type": "pie"
           }
          ],
          "scatter": [
           {
            "fillpattern": {
             "fillmode": "overlay",
             "size": 10,
             "solidity": 0.2
            },
            "type": "scatter"
           }
          ],
          "scatter3d": [
           {
            "line": {
             "colorbar": {
              "outlinewidth": 0,
              "ticks": ""
             }
            },
            "marker": {
             "colorbar": {
              "outlinewidth": 0,
              "ticks": ""
             }
            },
            "type": "scatter3d"
           }
          ],
          "scattercarpet": [
           {
            "marker": {
             "colorbar": {
              "outlinewidth": 0,
              "ticks": ""
             }
            },
            "type": "scattercarpet"
           }
          ],
          "scattergeo": [
           {
            "marker": {
             "colorbar": {
              "outlinewidth": 0,
              "ticks": ""
             }
            },
            "type": "scattergeo"
           }
          ],
          "scattergl": [
           {
            "marker": {
             "colorbar": {
              "outlinewidth": 0,
              "ticks": ""
             }
            },
            "type": "scattergl"
           }
          ],
          "scattermapbox": [
           {
            "marker": {
             "colorbar": {
              "outlinewidth": 0,
              "ticks": ""
             }
            },
            "type": "scattermapbox"
           }
          ],
          "scatterpolar": [
           {
            "marker": {
             "colorbar": {
              "outlinewidth": 0,
              "ticks": ""
             }
            },
            "type": "scatterpolar"
           }
          ],
          "scatterpolargl": [
           {
            "marker": {
             "colorbar": {
              "outlinewidth": 0,
              "ticks": ""
             }
            },
            "type": "scatterpolargl"
           }
          ],
          "scatterternary": [
           {
            "marker": {
             "colorbar": {
              "outlinewidth": 0,
              "ticks": ""
             }
            },
            "type": "scatterternary"
           }
          ],
          "surface": [
           {
            "colorbar": {
             "outlinewidth": 0,
             "ticks": ""
            },
            "colorscale": [
             [
              0,
              "#0d0887"
             ],
             [
              0.1111111111111111,
              "#46039f"
             ],
             [
              0.2222222222222222,
              "#7201a8"
             ],
             [
              0.3333333333333333,
              "#9c179e"
             ],
             [
              0.4444444444444444,
              "#bd3786"
             ],
             [
              0.5555555555555556,
              "#d8576b"
             ],
             [
              0.6666666666666666,
              "#ed7953"
             ],
             [
              0.7777777777777778,
              "#fb9f3a"
             ],
             [
              0.8888888888888888,
              "#fdca26"
             ],
             [
              1,
              "#f0f921"
             ]
            ],
            "type": "surface"
           }
          ],
          "table": [
           {
            "cells": {
             "fill": {
              "color": "#EBF0F8"
             },
             "line": {
              "color": "white"
             }
            },
            "header": {
             "fill": {
              "color": "#C8D4E3"
             },
             "line": {
              "color": "white"
             }
            },
            "type": "table"
           }
          ]
         },
         "layout": {
          "annotationdefaults": {
           "arrowcolor": "#2a3f5f",
           "arrowhead": 0,
           "arrowwidth": 1
          },
          "autotypenumbers": "strict",
          "coloraxis": {
           "colorbar": {
            "outlinewidth": 0,
            "ticks": ""
           }
          },
          "colorscale": {
           "diverging": [
            [
             0,
             "#8e0152"
            ],
            [
             0.1,
             "#c51b7d"
            ],
            [
             0.2,
             "#de77ae"
            ],
            [
             0.3,
             "#f1b6da"
            ],
            [
             0.4,
             "#fde0ef"
            ],
            [
             0.5,
             "#f7f7f7"
            ],
            [
             0.6,
             "#e6f5d0"
            ],
            [
             0.7,
             "#b8e186"
            ],
            [
             0.8,
             "#7fbc41"
            ],
            [
             0.9,
             "#4d9221"
            ],
            [
             1,
             "#276419"
            ]
           ],
           "sequential": [
            [
             0,
             "#0d0887"
            ],
            [
             0.1111111111111111,
             "#46039f"
            ],
            [
             0.2222222222222222,
             "#7201a8"
            ],
            [
             0.3333333333333333,
             "#9c179e"
            ],
            [
             0.4444444444444444,
             "#bd3786"
            ],
            [
             0.5555555555555556,
             "#d8576b"
            ],
            [
             0.6666666666666666,
             "#ed7953"
            ],
            [
             0.7777777777777778,
             "#fb9f3a"
            ],
            [
             0.8888888888888888,
             "#fdca26"
            ],
            [
             1,
             "#f0f921"
            ]
           ],
           "sequentialminus": [
            [
             0,
             "#0d0887"
            ],
            [
             0.1111111111111111,
             "#46039f"
            ],
            [
             0.2222222222222222,
             "#7201a8"
            ],
            [
             0.3333333333333333,
             "#9c179e"
            ],
            [
             0.4444444444444444,
             "#bd3786"
            ],
            [
             0.5555555555555556,
             "#d8576b"
            ],
            [
             0.6666666666666666,
             "#ed7953"
            ],
            [
             0.7777777777777778,
             "#fb9f3a"
            ],
            [
             0.8888888888888888,
             "#fdca26"
            ],
            [
             1,
             "#f0f921"
            ]
           ]
          },
          "colorway": [
           "#636efa",
           "#EF553B",
           "#00cc96",
           "#ab63fa",
           "#FFA15A",
           "#19d3f3",
           "#FF6692",
           "#B6E880",
           "#FF97FF",
           "#FECB52"
          ],
          "font": {
           "color": "#2a3f5f"
          },
          "geo": {
           "bgcolor": "white",
           "lakecolor": "white",
           "landcolor": "#E5ECF6",
           "showlakes": true,
           "showland": true,
           "subunitcolor": "white"
          },
          "hoverlabel": {
           "align": "left"
          },
          "hovermode": "closest",
          "mapbox": {
           "style": "light"
          },
          "paper_bgcolor": "white",
          "plot_bgcolor": "#E5ECF6",
          "polar": {
           "angularaxis": {
            "gridcolor": "white",
            "linecolor": "white",
            "ticks": ""
           },
           "bgcolor": "#E5ECF6",
           "radialaxis": {
            "gridcolor": "white",
            "linecolor": "white",
            "ticks": ""
           }
          },
          "scene": {
           "xaxis": {
            "backgroundcolor": "#E5ECF6",
            "gridcolor": "white",
            "gridwidth": 2,
            "linecolor": "white",
            "showbackground": true,
            "ticks": "",
            "zerolinecolor": "white"
           },
           "yaxis": {
            "backgroundcolor": "#E5ECF6",
            "gridcolor": "white",
            "gridwidth": 2,
            "linecolor": "white",
            "showbackground": true,
            "ticks": "",
            "zerolinecolor": "white"
           },
           "zaxis": {
            "backgroundcolor": "#E5ECF6",
            "gridcolor": "white",
            "gridwidth": 2,
            "linecolor": "white",
            "showbackground": true,
            "ticks": "",
            "zerolinecolor": "white"
           }
          },
          "shapedefaults": {
           "line": {
            "color": "#2a3f5f"
           }
          },
          "ternary": {
           "aaxis": {
            "gridcolor": "white",
            "linecolor": "white",
            "ticks": ""
           },
           "baxis": {
            "gridcolor": "white",
            "linecolor": "white",
            "ticks": ""
           },
           "bgcolor": "#E5ECF6",
           "caxis": {
            "gridcolor": "white",
            "linecolor": "white",
            "ticks": ""
           }
          },
          "title": {
           "x": 0.05
          },
          "xaxis": {
           "automargin": true,
           "gridcolor": "white",
           "linecolor": "white",
           "ticks": "",
           "title": {
            "standoff": 15
           },
           "zerolinecolor": "white",
           "zerolinewidth": 2
          },
          "yaxis": {
           "automargin": true,
           "gridcolor": "white",
           "linecolor": "white",
           "ticks": "",
           "title": {
            "standoff": 15
           },
           "zerolinecolor": "white",
           "zerolinewidth": 2
          }
         }
        }
       }
      }
     },
     "metadata": {},
     "output_type": "display_data"
    }
   ],
   "source": [
    "import pycountry\n",
    "from sklearn.decomposition import PCA\n",
    "from sklearn.manifold import TSNE\n",
    "from sklearn.cluster import KMeans,DBSCAN, MeanShift, AffinityPropagation\n",
    "import plotly.express as px\n",
    "\n",
    "APPLY_DIM_REDUCTION = False\n",
    "METHOD = \"AffinityPropagation\"\n",
    "\n",
    "# Update the mapping for specific labels\n",
    "country_map = {\n",
    "    \"United States\" : \"United States of America\",\n",
    "    'Dominican Republic': 'Dominican Rep.',\n",
    "    'Czech Republic': 'Czechia',\n",
    "    'Hong Kong' : 'China',\n",
    "    'Turkey' : 'Türkiye'\n",
    "}\n",
    "\n",
    "plot_kwargs.update({\"column\" : \"half\", \"nrows\" : 1, \"ncols\" : 1})\n",
    "\n",
    "fv_df.drop(columns=['Global'], inplace=True)\n",
    "reset_plottings(**plot_kwargs)\n",
    "# Merge the world map with your correlation data\n",
    "df_corr_full = pd.DataFrame(fv_df).T.reset_index().rename(columns={\"index\":\"Country\"}).fillna(0)\n",
    "\n",
    "# Apply PCA to get the first two principal components\n",
    "if APPLY_DIM_REDUCTION:\n",
    "    pca = PCA(n_components=2)\n",
    "\n",
    "    # Fit the PCA model to the data\n",
    "    pca_features = pca.fit_transform(df_corr_full.iloc[:,2:])\n",
    "    fv = pca_features\n",
    "else:\n",
    "    fv = df_corr_full.iloc[:,2:].values\n",
    "\n",
    "# get iso codes and add them to the dataframe\n",
    "iso_codes = []\n",
    "for country in df_corr_full['Country']:\n",
    "    try:\n",
    "        iso_codes.append(pycountry.countries.search_fuzzy(country)[0].alpha_3)\n",
    "    except:\n",
    "        iso_codes.append('None')\n",
    "\n",
    "df_corr_full['iso_code'] = iso_codes\n",
    "# Change the iso code position\n",
    "\n",
    "df_corr_full.loc[df_corr_full['Country'] == 'Turkey', 'iso_code'] = 'TUR'\n",
    "\n",
    "\n",
    "# Cluster the pca_features\n",
    "if METHOD == \"KMeans\":\n",
    "    kmeans = KMeans(n_clusters=5, random_state=42)\n",
    "    kmeans.fit(fv)\n",
    "    df_corr_full['cluster_label'] = kmeans.labels_\n",
    "elif METHOD == \"AffinityPropagation\":\n",
    "    affinity_propagation = AffinityPropagation(random_state=42)\n",
    "    affinity_propagation.fit(fv)\n",
    "    df_corr_full['cluster_label'] = affinity_propagation.labels_\n",
    "elif METHOD == \"MeanShift\":\n",
    "    mean_shift = MeanShift(max_iter=500)\n",
    "    mean_shift.fit(fv)\n",
    "    df_corr_full['cluster_label'] = mean_shift.labels_\n",
    "    \n",
    "    \n",
    "# Remove the colorbar\n",
    "reset_plottings(**plot_kwargs)\n",
    "\n",
    "fig = px.choropleth(df_corr_full, \n",
    "                    locations='iso_code', \n",
    "                    color='cluster_label', \n",
    "                    hover_name='Country',\n",
    "                    projection='natural earth', \n",
    "                    color_continuous_scale='ice',\n",
    "                    )\n",
    "\n",
    "# Do not display the legend\n",
    "fig.update_coloraxes(showscale=False) \n",
    "\n",
    "# Save the figure\n",
    "# save_path = f'world_map_clustering_{corr_label}_{PICKLE_LABEL}{SAVE_EXTENSION}'\n",
    "# fig.write_image(os.path.join(SAVE_DIR,\"wmaps\",save_path))\n",
    "\n",
    "# Close the fiugre\n",
    "fig.show()\n"
   ]
  },
  {
   "cell_type": "code",
   "execution_count": 62,
   "metadata": {},
   "outputs": [
    {
     "name": "stdout",
     "output_type": "stream",
     "text": [
      "SubdivisionHierarchy(code='GT-GU', country_code='GT', name='Guatemala', parent_code=None, type='Department')\n",
      "SubdivisionHierarchy(code='MX-MEX', country_code='MX', name='México', parent_code=None, type='State')\n",
      "SubdivisionHierarchy(code='PA-8', country_code='PA', name='Panamá', parent_code=None, type='Province')\n",
      "['ARG', 'COL', 'BOL', 'CHL', 'CRI', 'DOM', 'ECU', 'SLV', 'GTM', 'HND', 'MEX', 'PAN', 'PRY', 'PER', 'ESP', 'URY']\n",
      "['AUS', 'BGR', 'CAN', 'GRC', 'LTU', 'NZL', 'POL', 'SVK', 'CHE', 'USA', 'ROU', 'ZAF']\n",
      "['BRA']\n",
      "['AUT', 'BEL', 'DNK', 'CZE', 'FRA', 'DEU', 'ISL', 'ITA', 'NLD', 'EGY', 'MAR']\n",
      "['FIN', 'EST', 'HUN', 'IRL', 'LVA', 'MYS', 'NOR', 'PRT', 'SWE', 'TUR', 'GBR', 'VNM', 'IND', 'ISR', 'SAU', 'ARE', 'KOR']\n",
      "['HKG', 'IDN', 'PHL', 'SGP', 'TWN', 'THA']\n",
      "['JPN']\n",
      "SubdivisionHierarchy(code='BE-WLX', country_code='BE', name='Luxembourg', parent='WAL', parent_code='BE-WAL', type='Province')\n",
      "SubdivisionHierarchy(code='LU-LU', country_code='LU', name='Luxembourg', parent_code=None, type='Canton')\n",
      "['LUX']\n",
      "['NIC']\n",
      "['RUS', 'UKR']\n"
     ]
    }
   ],
   "source": [
    "# Print the countries in each cluster\n",
    "for label in df_corr_full['cluster_label'].unique():\n",
    "    countries_label = df_corr_full[df_corr_full['cluster_label'] == label]['Country'].values\n",
    "\n",
    "    # Print them in a nice way\n",
    "    iso_3_codes = []\n",
    "    for country in countries_label:\n",
    "        try:\n",
    "            iso_3_codes.append(pycountry.countries.search_fuzzy(country)[0].alpha_3)\n",
    "        except:\n",
    "            if country == 'Turkey':\n",
    "                iso_3_codes.append('TUR')\n",
    "            else:\n",
    "                iso_3_codes.append('None')\n",
    "\n",
    "    print([iso for iso in iso_3_codes if iso != 'None'])\n",
    "\n"
   ]
  },
  {
   "cell_type": "code",
   "execution_count": null,
   "metadata": {},
   "outputs": [],
   "source": []
  }
 ],
 "metadata": {
  "kernelspec": {
   "display_name": "dl",
   "language": "python",
   "name": "python3"
  },
  "language_info": {
   "codemirror_mode": {
    "name": "ipython",
    "version": 3
   },
   "file_extension": ".py",
   "mimetype": "text/x-python",
   "name": "python",
   "nbconvert_exporter": "python",
   "pygments_lexer": "ipython3",
   "version": "3.10.6"
  }
 },
 "nbformat": 4,
 "nbformat_minor": 2
}
