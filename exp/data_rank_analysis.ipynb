{
 "cells": [
  {
   "cell_type": "markdown",
   "metadata": {},
   "source": [
    "### Data Exploration - Ranks and Streams\n",
    "\n",
    "In this notebook, we will explore the data and try to find some interesting insights about ranks and number of unique songs and daily streams. You can use the functions below to analyze different countries and time periods.\n",
    "* `plot_nunique_songs_by_rank(df, country, year)`: Plots the number of unique songs for each rank in a given country and year.\n",
    "* `plot_streams_per_rank(df, country, year)`: Plots the number of streams for each rank in a given country and year.\n",
    "* `plot_streams_per_rank_all_years(df, country)`: Plots the number of streams for each rank in a given country for all years.\n",
    "* `plot_nunique_songs_by_rank_for_all_years(df, country)`: Plots the number of unique songs for each rank in a given country for all years.\t\n",
    "\n",
    "\n",
    "\n",
    "\n"
   ]
  },
  {
   "cell_type": "code",
   "execution_count": 1,
   "metadata": {},
   "outputs": [
    {
     "name": "stderr",
     "output_type": "stream",
     "text": [
      "/tmp/ipykernel_15226/1106765728.py:2: DeprecationWarning: \n",
      "Pyarrow will become a required dependency of pandas in the next major release of pandas (pandas 3.0),\n",
      "(to allow more performant data types, such as the Arrow string type, and better interoperability with other libraries)\n",
      "but was not found to be installed on your system.\n",
      "If this would cause problems for you,\n",
      "please provide us feedback at https://github.com/pandas-dev/pandas/issues/54466\n",
      "        \n",
      "  import pandas as pd\n"
     ]
    }
   ],
   "source": [
    "import numpy as np\n",
    "import pandas as pd\n",
    "import matplotlib.pyplot as plt\n",
    "import os\n",
    "import sys\n",
    "import argparse\n",
    "from tueplots import bundles\n",
    "from tueplots.constants.color import rgb\n",
    "from matplotlib import font_manager\n",
    "\n",
    "plt.rcParams.update(bundles.beamer_moml())\n",
    "plt.rcParams.update({\"figure.dpi\": 150})\n",
    "pd.options.mode.chained_assignment = None"
   ]
  },
  {
   "cell_type": "code",
   "execution_count": 2,
   "metadata": {},
   "outputs": [],
   "source": [
    "from matplotlib import font_manager\n",
    "\n",
    "# Change the font path and run this cell to use Roboto Condensed if it is not already configured on your system\n",
    "FONT_PATH = \"../figures/fonts/RobotoCondensed.ttf\"\n",
    "\n",
    "font = font_manager.FontEntry(fname=FONT_PATH, name=\"Roboto Condensed\")\n",
    "font_manager.fontManager.ttflist.append(font)"
   ]
  },
  {
   "cell_type": "code",
   "execution_count": 3,
   "metadata": {},
   "outputs": [],
   "source": [
    "plt.rcParams.update(bundles.beamer_moml())\n",
    "plt.rcParams.update({\"figure.dpi\": 150})\n",
    "pd.options.mode.chained_assignment = None"
   ]
  },
  {
   "cell_type": "code",
   "execution_count": 4,
   "metadata": {},
   "outputs": [],
   "source": [
    "# Change the path if necessary\n",
    "CHARTS_PATH = \"../data/charts_processed.csv\"\n",
    "FEATURE_PATH = \"../data/audio_features_processed.csv\""
   ]
  },
  {
   "cell_type": "code",
   "execution_count": 5,
   "metadata": {},
   "outputs": [],
   "source": [
    "df = pd.read_csv(CHARTS_PATH)"
   ]
  },
  {
   "cell_type": "code",
   "execution_count": 6,
   "metadata": {},
   "outputs": [],
   "source": [
    "def retrieve_yearly_data(df, year):\n",
    "    \"\"\"\n",
    "    Retrieve the data for a given year\n",
    "    \"\"\"\n",
    "    return df.loc[df['year'] == year]\n",
    "\n",
    "def retrieve_monthly_data(df, year, month):\n",
    "    \"\"\"\n",
    "    Retrieve the data for a given month of a given year\n",
    "    \"\"\"\n",
    "    return df.loc[(df['year'] == year) & (df['month'] == month)]\n",
    "\n",
    "def retrieve_daily_data(df, year, month, day):\n",
    "    \"\"\"\n",
    "    Retrieve the data for a given day of a given month of a given year\n",
    "    \"\"\"\n",
    "    return df.loc[(df['year'] == year) & (df['month'] == month) & (df['day'] == day)]"
   ]
  },
  {
   "cell_type": "code",
   "execution_count": 7,
   "metadata": {},
   "outputs": [
    {
     "ename": "TypeError",
     "evalue": "'module' object is not callable",
     "output_type": "error",
     "traceback": [
      "\u001b[0;31m---------------------------------------------------------------------------\u001b[0m",
      "\u001b[0;31mTypeError\u001b[0m                                 Traceback (most recent call last)",
      "Cell \u001b[0;32mIn[7], line 24\u001b[0m\n\u001b[1;32m     21\u001b[0m     plt\u001b[38;5;241m.\u001b[39mylabel(\u001b[38;5;124m\"\u001b[39m\u001b[38;5;124mTotal Streams\u001b[39m\u001b[38;5;124m\"\u001b[39m)\n\u001b[1;32m     22\u001b[0m     plt\u001b[38;5;241m.\u001b[39mshow()\n\u001b[0;32m---> 24\u001b[0m \u001b[43mplot_total_streams\u001b[49m\u001b[43m(\u001b[49m\u001b[43mdf\u001b[49m\u001b[43m)\u001b[49m\n",
      "Cell \u001b[0;32mIn[7], line 18\u001b[0m, in \u001b[0;36mplot_total_streams\u001b[0;34m(df)\u001b[0m\n\u001b[1;32m     16\u001b[0m a \u001b[38;5;241m=\u001b[39m get_total_streams(df)\n\u001b[1;32m     17\u001b[0m plt\u001b[38;5;241m.\u001b[39mfigure(figsize\u001b[38;5;241m=\u001b[39m(\u001b[38;5;241m10\u001b[39m, \u001b[38;5;241m5\u001b[39m))\n\u001b[0;32m---> 18\u001b[0m plt\u001b[38;5;241m.\u001b[39mplot(a\u001b[38;5;241m.\u001b[39mindex\u001b[38;5;241m.\u001b[39mtolist(), a\u001b[38;5;241m.\u001b[39mvalues\u001b[38;5;241m.\u001b[39mtolist(), color\u001b[38;5;241m=\u001b[39m\u001b[43mrgb\u001b[49m\u001b[43m(\u001b[49m\u001b[38;5;124;43m\"\u001b[39;49m\u001b[38;5;124;43mtuebrightblue\u001b[39;49m\u001b[38;5;124;43m\"\u001b[39;49m\u001b[43m)\u001b[49m)\n\u001b[1;32m     19\u001b[0m plt\u001b[38;5;241m.\u001b[39mtitle(\u001b[38;5;124m\"\u001b[39m\u001b[38;5;124mTotal Streams per Year\u001b[39m\u001b[38;5;124m\"\u001b[39m)\n\u001b[1;32m     20\u001b[0m plt\u001b[38;5;241m.\u001b[39mxlabel(\u001b[38;5;124m\"\u001b[39m\u001b[38;5;124mYear\u001b[39m\u001b[38;5;124m\"\u001b[39m)\n",
      "\u001b[0;31mTypeError\u001b[0m: 'module' object is not callable"
     ]
    },
    {
     "data": {
      "text/plain": [
       "<Figure size 1500x750 with 0 Axes>"
      ]
     },
     "metadata": {},
     "output_type": "display_data"
    }
   ],
   "source": [
    "# get total number of streams for each year\n",
    "def get_total_streams(df):\n",
    "    \"\"\"\n",
    "    Get the total number of streams for each year\n",
    "    \"\"\"\n",
    "    df.loc[:, 'year'] = pd.DatetimeIndex(df['date']).year\n",
    "    df.loc[:, 'month'] = pd.DatetimeIndex(df['date']).month\n",
    "    df.loc[:, 'day'] = pd.DatetimeIndex(df['date']).day\n",
    "    return df.groupby(\"year\")[\"streams\"].sum()\n",
    "\n",
    "\n",
    "def plot_total_streams(df):\n",
    "    \"\"\"\n",
    "    Plot the total number of streams for each year\n",
    "    \"\"\"\n",
    "    a = get_total_streams(df)\n",
    "    plt.figure(figsize=(10, 5))\n",
    "    plt.plot(a.index.tolist(), a.values.tolist(), color=rgb.tue_lightblue)\n",
    "    plt.title(\"Total Streams per Year\")\n",
    "    plt.xlabel(\"Year\")\n",
    "    plt.ylabel(\"Total Streams\")\n",
    "    plt.show()\n",
    "\n",
    "plot_total_streams(df)"
   ]
  },
  {
   "cell_type": "code",
   "execution_count": null,
   "metadata": {},
   "outputs": [],
   "source": [
    "\"\"\"\n",
    "Composite functions:\n",
    "The idea is to make it easier for the user to retrieve the data user wants\n",
    "based on country and year.\n",
    "\"\"\"\n",
    "\n",
    "def plot_streams_per_rank(df, country, year):\n",
    "    \"\"\"\n",
    "    Plot the average number of daily streams per rank for a given year\n",
    "    \"\"\"\n",
    "    df_country = df.loc[df['region'] == country]\n",
    "    df_country.loc[:, 'year'] = pd.DatetimeIndex(df_country['date']).year\n",
    "    df_country.loc[:, 'month'] = pd.DatetimeIndex(df_country['date']).month\n",
    "    df_country.loc[:, 'day'] = pd.DatetimeIndex(df_country['date']).day\n",
    "    \n",
    "    df_country = df_country.loc[df_country['year'] == year]\n",
    "    streams_per_rank = df_country.groupby(['rank'])['streams'].mean()\n",
    "    x = streams_per_rank.index\n",
    "    y = streams_per_rank.values\n",
    "\n",
    "    # get standard deviations for each rank\n",
    "    std = df_country.groupby(['rank'])['streams'].std()\n",
    "    std = std.values\n",
    "    \n",
    "    # create formatter\n",
    "    def thousands(x, _):\n",
    "        return '%1.fK' % (x * 1e-3)\n",
    "    \n",
    "    formatter = plt.FuncFormatter(thousands)\n",
    "    fig, ax = plt.subplots()\n",
    "    fig.set_size_inches(10, 5)\n",
    "    # ms: width of the dots\n",
    "    # lw: width of the line\n",
    "    ax.plot(x, y, '.-', ms=2, lw=0.85, color=rgb.tue_darkgreen, label=\"average number of daily streams\")\n",
    "    plt.fill_between(x, y-std, y+std, alpha=0.9, color=rgb.mps_gray, label=\"± standard deviation\")\n",
    "    ax.set_xlabel(\"ranking\")\n",
    "    ax.set_ylabel(\"streams\")\n",
    "    ax.legend(loc=\"upper right\")\n",
    "\n",
    "    ax.xaxis.set_major_locator(plt.MultipleLocator(10))\n",
    "    ax.xaxis.set_minor_locator(plt.MultipleLocator(5))\n",
    "    ax.set_xlim([-2, 201])\n",
    "    ax.axhline(0, color=rgb.tue_dark, linewidth=0.5)\n",
    "    ax.yaxis.set_major_formatter(formatter)\n",
    "\n",
    "    ax.grid(axis=\"both\", which=\"major\", color=rgb.tue_dark, linewidth=0.2)\n",
    "    ax.grid(axis=\"both\", which=\"minor\", color=rgb.tue_gray, linewidth=0.3)\n",
    "    plt.title(\"Average number of daily streams per rank in \" + country + \" in \" + str(year))\n",
    "    plt.show()\n",
    "\n",
    "def plot_streams_per_rank_all_years(df, country):\n",
    "    # do the same thing for 2017, 2018, 2019, 2020, 2021 and plot them all in one figure\n",
    "    df_country = df.loc[df['region'] == country]\n",
    "\n",
    "    df_country.loc[:, 'year'] = pd.DatetimeIndex(df_country['date']).year\n",
    "    df_country.loc[:, 'month'] = pd.DatetimeIndex(df_country['date']).month\n",
    "    df_country.loc[:, 'day'] = pd.DatetimeIndex(df_country['date']).day\n",
    "    # create formatter\n",
    "    def thousands(x, _):\n",
    "        return '%1.fK' % (x * 1e-3)\n",
    "    fig, ax = plt.subplots()\n",
    "    fig.set_size_inches(10, 5)\n",
    "\n",
    "    for year in range(2017, 2022):\n",
    "        df_year = df_country.loc[df_country['year'] == year]\n",
    "        streams_per_rank = df_year.groupby(['rank'])['streams'].mean()\n",
    "        x = streams_per_rank.index\n",
    "        y = streams_per_rank.values\n",
    "        ax.plot(x, y, '.-', ms=2, lw=0.85, label=year)\n",
    "    ax.set_xlabel(\"ranking\")\n",
    "    ax.set_ylabel(\"streams\")\n",
    "    ax.legend(loc=\"upper right\")\n",
    "    formatter = plt.FuncFormatter(thousands)\n",
    "    ax.yaxis.set_major_formatter(formatter)\n",
    "\n",
    "    ax.xaxis.set_major_locator(plt.MultipleLocator(10))\n",
    "    ax.xaxis.set_minor_locator(plt.MultipleLocator(5))\n",
    "    ax.set_xlim([-2, 201])\n",
    "    ax.axhline(0, color=rgb.tue_dark, linewidth=0.5)\n",
    "\n",
    "    ax.grid(axis=\"both\", which=\"major\", color=rgb.tue_dark, linewidth=0.2)\n",
    "    ax.grid(axis=\"both\", which=\"minor\", color=rgb.tue_gray, linewidth=0.3)\n",
    "    plt.title(\"Average number of daily streams per rank in \" + country + \" in 2017-2021\")\n",
    "    plt.show()"
   ]
  },
  {
   "cell_type": "code",
   "execution_count": null,
   "metadata": {},
   "outputs": [],
   "source": [
    "# get the The number of unique songs observed in the data at each position in the Top 200 throughout the year\n",
    "def plot_nunique_songs_by_rank(df, country, year):\n",
    "    df_country = df.loc[df['region'] == country]\n",
    "\n",
    "    df_country.loc[:, 'year'] = pd.DatetimeIndex(df_country['date']).year\n",
    "    df_country.loc[:, 'month'] = pd.DatetimeIndex(df_country['date']).month\n",
    "    df_country.loc[:, 'day'] = pd.DatetimeIndex(df_country['date']).day\n",
    "    fig, ax = plt.subplots()\n",
    "    fig.set_size_inches(10, 5)\n",
    "    \n",
    "    df_country = df_country.loc[(df_country['year'] == year) & (df_country['chart'] == \"top200\")]\n",
    "    nunique_songs = df_country.groupby(['rank'])['title'].nunique()\n",
    "    \n",
    "    x = nunique_songs.index\n",
    "    y = nunique_songs.values\n",
    "    ax.plot(x, y, '.-', ms=2, lw=0.85, label=year)\n",
    "    ax.set_xlabel(\"ranking\")\n",
    "    ax.set_ylabel(\"number of unique songs\")\n",
    "    ax.legend(loc=\"upper left\")\n",
    "\n",
    "    ax.xaxis.set_major_locator(plt.MultipleLocator(10))\n",
    "    ax.xaxis.set_minor_locator(plt.MultipleLocator(5))\n",
    "    ax.set_xlim([-2, 201])\n",
    "    ax.axhline(0, color=rgb.tue_dark, linewidth=0.5)\n",
    "    \n",
    "    ax.grid(axis=\"both\", which=\"major\", color=rgb.tue_dark, linewidth=0.2)\n",
    "    ax.grid(axis=\"both\", which=\"minor\", color=rgb.tue_gray, linewidth=0.3)\n",
    "    plt.title(\"Number of unique songs observed in the data at each position in the Top 200 in \" + country + \" in \" + str(year))\n",
    "    plt.show()\n",
    "    \n",
    "def plot_nunique_songs_by_rank_for_all_years(df, country):\n",
    "    df_country = df.loc[df['region'] == country]\n",
    "\n",
    "    df_country.loc[:, 'year'] = pd.DatetimeIndex(df_country['date']).year\n",
    "    df_country.loc[:, 'month'] = pd.DatetimeIndex(df_country['date']).month\n",
    "    df_country.loc[:, 'day'] = pd.DatetimeIndex(df_country['date']).day\n",
    "    fig, ax = plt.subplots()\n",
    "    fig.set_size_inches(10, 5)\n",
    "    \n",
    "    for year in range(2017, 2022):\n",
    "        df_year = df_country.loc[df_country['year'] == year]\n",
    "        df_year = df_year.loc[df_year['chart'] == \"top200\"]\n",
    "        nunique_songs = df_year.groupby(['rank'])['title'].nunique()\n",
    "        \n",
    "        x = nunique_songs.index\n",
    "        y = nunique_songs.values\n",
    "        ax.plot(x, y, '.-', ms=2, lw=0.85, label=year)\n",
    "    ax.set_xlabel(\"ranking\")\n",
    "    ax.set_ylabel(\"number of unique songs\")\n",
    "    ax.legend(loc=\"upper left\")\n",
    "\n",
    "    ax.xaxis.set_major_locator(plt.MultipleLocator(10))\n",
    "    ax.xaxis.set_minor_locator(plt.MultipleLocator(5))\n",
    "    ax.set_xlim([-2, 201])\n",
    "    \n",
    "    ax.grid(axis=\"both\", which=\"major\", color=rgb.tue_dark, linewidth=0.2)\n",
    "    ax.grid(axis=\"both\", which=\"minor\", color=rgb.tue_gray, linewidth=0.3)\n",
    "    plt.title(\"Number of unique songs observed in the data at each position in the Top 200 in \" + country + \" in 2017-2021\")\n",
    "    plt.show()"
   ]
  },
  {
   "cell_type": "code",
   "execution_count": null,
   "metadata": {},
   "outputs": [],
   "source": [
    "plot_nunique_songs_by_rank(df, \"Germany\", 2021)"
   ]
  },
  {
   "cell_type": "code",
   "execution_count": null,
   "metadata": {},
   "outputs": [],
   "source": [
    "# for each rank, get number of streams and plot it where x axis is rank, y axis is number of streams\n",
    "plot_streams_per_rank(df, \"Germany\", 2021)"
   ]
  },
  {
   "cell_type": "code",
   "execution_count": null,
   "metadata": {},
   "outputs": [],
   "source": [
    "plot_streams_per_rank_all_years(df, \"Germany\")"
   ]
  },
  {
   "cell_type": "code",
   "execution_count": null,
   "metadata": {},
   "outputs": [],
   "source": [
    "plot_nunique_songs_by_rank(df, \"Germany\", 2021)"
   ]
  },
  {
   "cell_type": "code",
   "execution_count": null,
   "metadata": {},
   "outputs": [],
   "source": [
    "plot_nunique_songs_by_rank_for_all_years(df, \"Germany\")"
   ]
  }
 ],
 "metadata": {
  "kernelspec": {
   "display_name": "Python [conda env:regional_rhythms] *",
   "language": "python",
   "name": "conda-env-regional_rhythms-py"
  },
  "language_info": {
   "codemirror_mode": {
    "name": "ipython",
    "version": 3
   },
   "file_extension": ".py",
   "mimetype": "text/x-python",
   "name": "python",
   "nbconvert_exporter": "python",
   "pygments_lexer": "ipython3",
   "version": "3.10.13"
  }
 },
 "nbformat": 4,
 "nbformat_minor": 4
}
